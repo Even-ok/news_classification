{
 "cells": [
  {
   "cell_type": "markdown",
   "metadata": {},
   "source": [
    "# 一、读取训练集"
   ]
  },
  {
   "cell_type": "code",
   "execution_count": 1,
   "metadata": {},
   "outputs": [],
   "source": [
    "path = '../搜狗新闻整理/总整理/data/train.txt'\n",
    "file_list = open(path, 'rb').readlines()"
   ]
  },
  {
   "cell_type": "code",
   "execution_count": 2,
   "metadata": {},
   "outputs": [
    {
     "data": {
      "text/plain": [
       "35000"
      ]
     },
     "execution_count": 2,
     "metadata": {},
     "output_type": "execute_result"
    }
   ],
   "source": [
    "len(file_list)"
   ]
  },
  {
   "cell_type": "code",
   "execution_count": 3,
   "metadata": {},
   "outputs": [],
   "source": [
    "import pandas as pd\n",
    "#创建一个空的Dataframe\n",
    "result =pd.DataFrame(columns=('content','tag'))"
   ]
  },
  {
   "cell_type": "code",
   "execution_count": 4,
   "metadata": {},
   "outputs": [
    {
     "data": {
      "text/plain": [
       "'北极上空惊现臭氧空洞臭氧减少幅度打破记录据新华社电一个国际研究小组2日发表的报告说他们对今年春天观测到的北极上空臭氧减少的数据进行了分析最终确认这次北极臭氧减少幅度打破了观测记录首次出现了类似南极上空的臭氧空洞美国加拿大芬兰丹麦等国研究人员共同完成的这份报告发表在自然杂志网站上报告说对今年春天北极上空臭氧观测数据的分析显示在18到20公里的高空臭氧减少的幅度超过了80可谓史无前例其程度可与南极臭氧空洞相提并论可以认为北极首次出现了臭氧空洞研究人员分析北极臭氧此次大幅减少的原因是从去年冬天到今年春天北极地区寒冷天气持续时间异乎寻常的长在寒冷条件下能破坏臭氧的含氯化合物会更活跃导致了臭氧空洞的出现臭氧是由三个氧原子组成的氧同素异形体距地表20公里左右高空存在一个臭氧层可以吸收部分对人体有害的紫外线暴露在这些紫外线下可导致人们皮肤烧伤甚至患上皮肤癌近几十年来由于人类释放了大量氯氟烃等破坏臭氧的物质臭氧层不时出现一些空洞特别是在南极地区每年冬天都会观测到臭氧空洞'"
      ]
     },
     "execution_count": 4,
     "metadata": {},
     "output_type": "execute_result"
    }
   ],
   "source": [
    "import re\n",
    "qq = file_list[0].decode('utf8').split('\\t')[0].strip().replace(\" \",'')\n",
    "re.sub('([^\\u4e00-\\u9fa5\\u0030-\\u0039\\u0041-\\u007a])', '', qq)"
   ]
  },
  {
   "cell_type": "code",
   "execution_count": 5,
   "metadata": {},
   "outputs": [],
   "source": [
    "import re\n",
    "for item in file_list:\n",
    "    line = item.decode('utf8').split('\\t')\n",
    "    # 去除非汉字、非数字、非字母的其他符号\n",
    "    content = line[0].strip().replace(\" \",'')\n",
    "    content = re.sub('([^\\u4e00-\\u9fa5\\u0030-\\u0039\\u0041-\\u007a])', '', content)\n",
    "    tag = line[1].strip()\n",
    "    result=result.append(pd.DataFrame({'content':[content],'tag':[tag]}),ignore_index=True)"
   ]
  },
  {
   "cell_type": "code",
   "execution_count": 6,
   "metadata": {},
   "outputs": [
    {
     "data": {
      "text/html": [
       "<div>\n",
       "<style scoped>\n",
       "    .dataframe tbody tr th:only-of-type {\n",
       "        vertical-align: middle;\n",
       "    }\n",
       "\n",
       "    .dataframe tbody tr th {\n",
       "        vertical-align: top;\n",
       "    }\n",
       "\n",
       "    .dataframe thead th {\n",
       "        text-align: right;\n",
       "    }\n",
       "</style>\n",
       "<table border=\"1\" class=\"dataframe\">\n",
       "  <thead>\n",
       "    <tr style=\"text-align: right;\">\n",
       "      <th></th>\n",
       "      <th>content</th>\n",
       "      <th>tag</th>\n",
       "    </tr>\n",
       "  </thead>\n",
       "  <tbody>\n",
       "    <tr>\n",
       "      <th>0</th>\n",
       "      <td>北极上空惊现臭氧空洞臭氧减少幅度打破记录据新华社电一个国际研究小组2日发表的报告说他们对今年...</td>\n",
       "      <td>3</td>\n",
       "    </tr>\n",
       "    <tr>\n",
       "      <th>1</th>\n",
       "      <td>中国经济网北京月日综合报道记者袁志丽二十国集团领导人第七次峰会日在墨西哥洛斯卡沃斯开幕一些主...</td>\n",
       "      <td>0</td>\n",
       "    </tr>\n",
       "    <tr>\n",
       "      <th>2</th>\n",
       "      <td>新华网天津月日电记者周润健蔡玉高在欣赏完了美丽的月偏食和震撼的金星凌日之后月天宇的第三场特殊...</td>\n",
       "      <td>9</td>\n",
       "    </tr>\n",
       "    <tr>\n",
       "      <th>3</th>\n",
       "      <td>本报讯记者陈小平从月日至日为第三次志愿填报时间我省考生可填报本科三批专项计划专科批高职高专一...</td>\n",
       "      <td>2</td>\n",
       "    </tr>\n",
       "    <tr>\n",
       "      <th>4</th>\n",
       "      <td>前排空间和后排空间车身和轴距均不算小但是内部空间并不能让人满意身材比较高大的人坐进去就会感觉...</td>\n",
       "      <td>5</td>\n",
       "    </tr>\n",
       "    <tr>\n",
       "      <th>...</th>\n",
       "      <td>...</td>\n",
       "      <td>...</td>\n",
       "    </tr>\n",
       "    <tr>\n",
       "      <th>34995</th>\n",
       "      <td>乐高印第安纳琼斯2冒险继续公布当年乐高与蝙蝠侠结合产生了乐高蝙蝠侠接着又与LucasArts...</td>\n",
       "      <td>7</td>\n",
       "    </tr>\n",
       "    <tr>\n",
       "      <th>34996</th>\n",
       "      <td>韩国媒体声称解放军正在中朝界河鸭绿江上进行渡江演练并公布图片和影像资料韩国媒体对此大加猜测认...</td>\n",
       "      <td>4</td>\n",
       "    </tr>\n",
       "    <tr>\n",
       "      <th>34997</th>\n",
       "      <td>月广州市汽车销售数据表明市场资源开始向强势品牌集中图文本报记者向寒松本报记者独家获得的有关数...</td>\n",
       "      <td>5</td>\n",
       "    </tr>\n",
       "    <tr>\n",
       "      <th>34998</th>\n",
       "      <td>研究称尼罗河美女半身像或经美化图古埃及王后奈费尔提蒂Nefertiti素有尼罗河美女之称新浪...</td>\n",
       "      <td>3</td>\n",
       "    </tr>\n",
       "    <tr>\n",
       "      <th>34999</th>\n",
       "      <td>财政部中介机构介绍失业者就业可获补贴本报讯记者鲍颖财政部昨日发出通知要求县级以上政府都要在财...</td>\n",
       "      <td>10</td>\n",
       "    </tr>\n",
       "  </tbody>\n",
       "</table>\n",
       "<p>35000 rows × 2 columns</p>\n",
       "</div>"
      ],
      "text/plain": [
       "                                                 content tag\n",
       "0      北极上空惊现臭氧空洞臭氧减少幅度打破记录据新华社电一个国际研究小组2日发表的报告说他们对今年...   3\n",
       "1      中国经济网北京月日综合报道记者袁志丽二十国集团领导人第七次峰会日在墨西哥洛斯卡沃斯开幕一些主...   0\n",
       "2      新华网天津月日电记者周润健蔡玉高在欣赏完了美丽的月偏食和震撼的金星凌日之后月天宇的第三场特殊...   9\n",
       "3      本报讯记者陈小平从月日至日为第三次志愿填报时间我省考生可填报本科三批专项计划专科批高职高专一...   2\n",
       "4      前排空间和后排空间车身和轴距均不算小但是内部空间并不能让人满意身材比较高大的人坐进去就会感觉...   5\n",
       "...                                                  ...  ..\n",
       "34995  乐高印第安纳琼斯2冒险继续公布当年乐高与蝙蝠侠结合产生了乐高蝙蝠侠接着又与LucasArts...   7\n",
       "34996  韩国媒体声称解放军正在中朝界河鸭绿江上进行渡江演练并公布图片和影像资料韩国媒体对此大加猜测认...   4\n",
       "34997  月广州市汽车销售数据表明市场资源开始向强势品牌集中图文本报记者向寒松本报记者独家获得的有关数...   5\n",
       "34998  研究称尼罗河美女半身像或经美化图古埃及王后奈费尔提蒂Nefertiti素有尼罗河美女之称新浪...   3\n",
       "34999  财政部中介机构介绍失业者就业可获补贴本报讯记者鲍颖财政部昨日发出通知要求县级以上政府都要在财...  10\n",
       "\n",
       "[35000 rows x 2 columns]"
      ]
     },
     "execution_count": 6,
     "metadata": {},
     "output_type": "execute_result"
    }
   ],
   "source": [
    "result"
   ]
  },
  {
   "cell_type": "markdown",
   "metadata": {},
   "source": [
    "# 二、去除重复"
   ]
  },
  {
   "cell_type": "code",
   "execution_count": 7,
   "metadata": {},
   "outputs": [
    {
     "name": "stdout",
     "output_type": "stream",
     "text": [
      "1481\n"
     ]
    },
    {
     "data": {
      "text/html": [
       "<div>\n",
       "<style scoped>\n",
       "    .dataframe tbody tr th:only-of-type {\n",
       "        vertical-align: middle;\n",
       "    }\n",
       "\n",
       "    .dataframe tbody tr th {\n",
       "        vertical-align: top;\n",
       "    }\n",
       "\n",
       "    .dataframe thead th {\n",
       "        text-align: right;\n",
       "    }\n",
       "</style>\n",
       "<table border=\"1\" class=\"dataframe\">\n",
       "  <thead>\n",
       "    <tr style=\"text-align: right;\">\n",
       "      <th></th>\n",
       "      <th>content</th>\n",
       "      <th>tag</th>\n",
       "    </tr>\n",
       "  </thead>\n",
       "  <tbody>\n",
       "    <tr>\n",
       "      <th>251</th>\n",
       "      <td>您所要访问的房源信息不存在或已被删除个人登录企业登录</td>\n",
       "      <td>1</td>\n",
       "    </tr>\n",
       "    <tr>\n",
       "      <th>415</th>\n",
       "      <td>企业专区自动抓取最新新闻览尽企业所有产品查阅网友评论尽在企业专区</td>\n",
       "      <td>5</td>\n",
       "    </tr>\n",
       "    <tr>\n",
       "      <th>602</th>\n",
       "      <td>资料图泰国总理拜见泰国公主的礼节实在太销魂了人民日报刊登了泰王国总理英拉西那瓦阁下致中华人民...</td>\n",
       "      <td>4</td>\n",
       "    </tr>\n",
       "    <tr>\n",
       "      <th>637</th>\n",
       "      <td>您所要访问的房源信息不存在或已被删除个人登录企业登录</td>\n",
       "      <td>1</td>\n",
       "    </tr>\n",
       "    <tr>\n",
       "      <th>797</th>\n",
       "      <td>本网站提供之资料或信息仅供投资者参考不构成投资建议搜狐财经频道联系方式热线电话或</td>\n",
       "      <td>0</td>\n",
       "    </tr>\n",
       "    <tr>\n",
       "      <th>...</th>\n",
       "      <td>...</td>\n",
       "      <td>...</td>\n",
       "    </tr>\n",
       "    <tr>\n",
       "      <th>34969</th>\n",
       "      <td>年我们为孙见坤不平为唐骏不齿搜狐教育频道诚邀各方嘉宾盘点一年新闻人物我们期盼国家中长期教育改...</td>\n",
       "      <td>2</td>\n",
       "    </tr>\n",
       "    <tr>\n",
       "      <th>34975</th>\n",
       "      <td>搜狐汽车月日讯据路透社报道德国大众汽车上周五证实由于怀疑其在华合作伙伴一汽集团盗用了自己在动...</td>\n",
       "      <td>5</td>\n",
       "    </tr>\n",
       "    <tr>\n",
       "      <th>34979</th>\n",
       "      <td>每个国家有它自己的国民性格和历史积累不能说俄罗斯的乱就一定比美国的差近代以来俄罗斯一直是开疆...</td>\n",
       "      <td>4</td>\n",
       "    </tr>\n",
       "    <tr>\n",
       "      <th>34992</th>\n",
       "      <td>前摘中国若使用其日益现代化和强大的武装部队可轻而易举控制南海有争议地区与中国相比菲律宾军队微...</td>\n",
       "      <td>4</td>\n",
       "    </tr>\n",
       "    <tr>\n",
       "      <th>34996</th>\n",
       "      <td>韩国媒体声称解放军正在中朝界河鸭绿江上进行渡江演练并公布图片和影像资料韩国媒体对此大加猜测认...</td>\n",
       "      <td>4</td>\n",
       "    </tr>\n",
       "  </tbody>\n",
       "</table>\n",
       "<p>1481 rows × 2 columns</p>\n",
       "</div>"
      ],
      "text/plain": [
       "                                                 content tag\n",
       "251                           您所要访问的房源信息不存在或已被删除个人登录企业登录   1\n",
       "415                     企业专区自动抓取最新新闻览尽企业所有产品查阅网友评论尽在企业专区   5\n",
       "602    资料图泰国总理拜见泰国公主的礼节实在太销魂了人民日报刊登了泰王国总理英拉西那瓦阁下致中华人民...   4\n",
       "637                           您所要访问的房源信息不存在或已被删除个人登录企业登录   1\n",
       "797             本网站提供之资料或信息仅供投资者参考不构成投资建议搜狐财经频道联系方式热线电话或   0\n",
       "...                                                  ...  ..\n",
       "34969  年我们为孙见坤不平为唐骏不齿搜狐教育频道诚邀各方嘉宾盘点一年新闻人物我们期盼国家中长期教育改...   2\n",
       "34975  搜狐汽车月日讯据路透社报道德国大众汽车上周五证实由于怀疑其在华合作伙伴一汽集团盗用了自己在动...   5\n",
       "34979  每个国家有它自己的国民性格和历史积累不能说俄罗斯的乱就一定比美国的差近代以来俄罗斯一直是开疆...   4\n",
       "34992  前摘中国若使用其日益现代化和强大的武装部队可轻而易举控制南海有争议地区与中国相比菲律宾军队微...   4\n",
       "34996  韩国媒体声称解放军正在中朝界河鸭绿江上进行渡江演练并公布图片和影像资料韩国媒体对此大加猜测认...   4\n",
       "\n",
       "[1481 rows x 2 columns]"
      ]
     },
     "metadata": {},
     "output_type": "display_data"
    }
   ],
   "source": [
    "# 显示和其他重复了的内容\n",
    "news = result\n",
    "print(news.duplicated().sum())\n",
    "display(news[news.duplicated()])"
   ]
  },
  {
   "cell_type": "code",
   "execution_count": 8,
   "metadata": {},
   "outputs": [
    {
     "name": "stdout",
     "output_type": "stream",
     "text": [
      "0\n"
     ]
    }
   ],
   "source": [
    "news.drop_duplicates(inplace=True)\n",
    "print(news.duplicated().sum())"
   ]
  },
  {
   "cell_type": "code",
   "execution_count": 9,
   "metadata": {},
   "outputs": [
    {
     "data": {
      "text/html": [
       "<div>\n",
       "<style scoped>\n",
       "    .dataframe tbody tr th:only-of-type {\n",
       "        vertical-align: middle;\n",
       "    }\n",
       "\n",
       "    .dataframe tbody tr th {\n",
       "        vertical-align: top;\n",
       "    }\n",
       "\n",
       "    .dataframe thead th {\n",
       "        text-align: right;\n",
       "    }\n",
       "</style>\n",
       "<table border=\"1\" class=\"dataframe\">\n",
       "  <thead>\n",
       "    <tr style=\"text-align: right;\">\n",
       "      <th></th>\n",
       "      <th>content</th>\n",
       "      <th>tag</th>\n",
       "    </tr>\n",
       "  </thead>\n",
       "  <tbody>\n",
       "    <tr>\n",
       "      <th>7552</th>\n",
       "      <td>晨报讯记者孙金凤奇瑞路虎的合资项目正在一步步推进之中从日前国家环保部发布的信息显示奇瑞捷豹路...</td>\n",
       "      <td>5</td>\n",
       "    </tr>\n",
       "    <tr>\n",
       "      <th>3795</th>\n",
       "      <td>玩开心泡泡吧让你开心泡回家火热的夏天只适合火热的心情而开心泡泡吧就像一道清凉的风为节日带来了...</td>\n",
       "      <td>7</td>\n",
       "    </tr>\n",
       "    <tr>\n",
       "      <th>18538</th>\n",
       "      <td>中新网月日电据美国星岛日报日报道美国罗得岛州东普罗维顿斯市有父子两人福星高照两天内先后中奖首...</td>\n",
       "      <td>6</td>\n",
       "    </tr>\n",
       "    <tr>\n",
       "      <th>31304</th>\n",
       "      <td>新华网塔吉克斯坦胡占德电和平使命联合军演日在塔吉克斯坦胡占德市落下帷幕前来观摩军演的上海合作...</td>\n",
       "      <td>4</td>\n",
       "    </tr>\n",
       "    <tr>\n",
       "      <th>14948</th>\n",
       "      <td>扬子晚报讯今年高校在预估分数线时基本都给出了考分对应的排名而不少学校给出的排名又相差不大这让...</td>\n",
       "      <td>2</td>\n",
       "    </tr>\n",
       "  </tbody>\n",
       "</table>\n",
       "</div>"
      ],
      "text/plain": [
       "                                                 content tag\n",
       "7552   晨报讯记者孙金凤奇瑞路虎的合资项目正在一步步推进之中从日前国家环保部发布的信息显示奇瑞捷豹路...   5\n",
       "3795   玩开心泡泡吧让你开心泡回家火热的夏天只适合火热的心情而开心泡泡吧就像一道清凉的风为节日带来了...   7\n",
       "18538  中新网月日电据美国星岛日报日报道美国罗得岛州东普罗维顿斯市有父子两人福星高照两天内先后中奖首...   6\n",
       "31304  新华网塔吉克斯坦胡占德电和平使命联合军演日在塔吉克斯坦胡占德市落下帷幕前来观摩军演的上海合作...   4\n",
       "14948  扬子晚报讯今年高校在预估分数线时基本都给出了考分对应的排名而不少学校给出的排名又相差不大这让...   2"
      ]
     },
     "execution_count": 9,
     "metadata": {},
     "output_type": "execute_result"
    }
   ],
   "source": [
    "#正则匹配去除数字、符号、空格\n",
    "import re\n",
    "from string import digits\n",
    "#正则化\n",
    "re_obj = re.compile(\n",
    "    r\"[!\\\"#$%&'()*+,-./:;<=>?@[\\\\\\]^_`{|}~—！，。？、￥…（）：【】《》‘’“”\\s]+\")\n",
    "re_obj2=re.compile(\n",
    "    r'[a-zA-Z0-9’!\"#$%&\\'()*+,-.<=>?@，。?★、…【】《》？“”‘’！[\\\\]^_`{|}~\\s]+')\n",
    "\n",
    "def clear(text):\n",
    "    res=re_obj.sub('', text)\n",
    "    res =re.sub('[^\\u4e00-\\u9fa5]+','',text)\n",
    "    return res\n",
    "\n",
    "\n",
    "\n",
    "news['content'] = news['content'].apply(clear)\n",
    "news.sample(5)"
   ]
  },
  {
   "cell_type": "code",
   "execution_count": 10,
   "metadata": {},
   "outputs": [
    {
     "name": "stdout",
     "output_type": "stream",
     "text": [
      "max length: 26038\n",
      "min length: 0\n"
     ]
    }
   ],
   "source": [
    "# 统计最长字符数   一条新闻最长会有26038\n",
    "print(\"max length: \"+str(news['content'].map(lambda x: len(x)).max()))\n",
    "print(\"min length: \"+str(news['content'].map(lambda x: len(x)).min()))\n"
   ]
  },
  {
   "cell_type": "code",
   "execution_count": 11,
   "metadata": {},
   "outputs": [
    {
     "name": "stdout",
     "output_type": "stream",
     "text": [
      "content     \n",
      "tag        3\n",
      "Name: 7070, dtype: object\n",
      "content     \n",
      "tag        9\n",
      "Name: 32207, dtype: object\n",
      "content     \n",
      "tag        5\n",
      "Name: 34874, dtype: object\n"
     ]
    }
   ],
   "source": [
    "# 发现有一些行为空\n",
    "for i,row in news.iterrows():\n",
    "    if len(row['content']) == 0:\n",
    "        print(row)"
   ]
  },
  {
   "cell_type": "code",
   "execution_count": 12,
   "metadata": {},
   "outputs": [
    {
     "data": {
      "text/html": [
       "<div>\n",
       "<style scoped>\n",
       "    .dataframe tbody tr th:only-of-type {\n",
       "        vertical-align: middle;\n",
       "    }\n",
       "\n",
       "    .dataframe tbody tr th {\n",
       "        vertical-align: top;\n",
       "    }\n",
       "\n",
       "    .dataframe thead th {\n",
       "        text-align: right;\n",
       "    }\n",
       "</style>\n",
       "<table border=\"1\" class=\"dataframe\">\n",
       "  <thead>\n",
       "    <tr style=\"text-align: right;\">\n",
       "      <th></th>\n",
       "      <th>content</th>\n",
       "      <th>tag</th>\n",
       "    </tr>\n",
       "  </thead>\n",
       "  <tbody>\n",
       "    <tr>\n",
       "      <th>0</th>\n",
       "      <td>北极上空惊现臭氧空洞臭氧减少幅度打破记录据新华社电一个国际研究小组日发表的报告说他们对今年春...</td>\n",
       "      <td>3</td>\n",
       "    </tr>\n",
       "    <tr>\n",
       "      <th>1</th>\n",
       "      <td>中国经济网北京月日综合报道记者袁志丽二十国集团领导人第七次峰会日在墨西哥洛斯卡沃斯开幕一些主...</td>\n",
       "      <td>0</td>\n",
       "    </tr>\n",
       "    <tr>\n",
       "      <th>2</th>\n",
       "      <td>新华网天津月日电记者周润健蔡玉高在欣赏完了美丽的月偏食和震撼的金星凌日之后月天宇的第三场特殊...</td>\n",
       "      <td>9</td>\n",
       "    </tr>\n",
       "    <tr>\n",
       "      <th>3</th>\n",
       "      <td>本报讯记者陈小平从月日至日为第三次志愿填报时间我省考生可填报本科三批专项计划专科批高职高专一...</td>\n",
       "      <td>2</td>\n",
       "    </tr>\n",
       "    <tr>\n",
       "      <th>4</th>\n",
       "      <td>前排空间和后排空间车身和轴距均不算小但是内部空间并不能让人满意身材比较高大的人坐进去就会感觉...</td>\n",
       "      <td>5</td>\n",
       "    </tr>\n",
       "    <tr>\n",
       "      <th>...</th>\n",
       "      <td>...</td>\n",
       "      <td>...</td>\n",
       "    </tr>\n",
       "    <tr>\n",
       "      <th>34994</th>\n",
       "      <td>苹果公司即将获得在中国注册的商标代价是万美元的真金白银月日深圳市中级人民法院向国家工商总局商...</td>\n",
       "      <td>9</td>\n",
       "    </tr>\n",
       "    <tr>\n",
       "      <th>34995</th>\n",
       "      <td>乐高印第安纳琼斯冒险继续公布当年乐高与蝙蝠侠结合产生了乐高蝙蝠侠接着又与合作推出了乐高星球大...</td>\n",
       "      <td>7</td>\n",
       "    </tr>\n",
       "    <tr>\n",
       "      <th>34997</th>\n",
       "      <td>月广州市汽车销售数据表明市场资源开始向强势品牌集中图文本报记者向寒松本报记者独家获得的有关数...</td>\n",
       "      <td>5</td>\n",
       "    </tr>\n",
       "    <tr>\n",
       "      <th>34998</th>\n",
       "      <td>研究称尼罗河美女半身像或经美化图古埃及王后奈费尔提蒂素有尼罗河美女之称新浪科技讯北京时间月日...</td>\n",
       "      <td>3</td>\n",
       "    </tr>\n",
       "    <tr>\n",
       "      <th>34999</th>\n",
       "      <td>财政部中介机构介绍失业者就业可获补贴本报讯记者鲍颖财政部昨日发出通知要求县级以上政府都要在财...</td>\n",
       "      <td>10</td>\n",
       "    </tr>\n",
       "  </tbody>\n",
       "</table>\n",
       "<p>33366 rows × 2 columns</p>\n",
       "</div>"
      ],
      "text/plain": [
       "                                                 content tag\n",
       "0      北极上空惊现臭氧空洞臭氧减少幅度打破记录据新华社电一个国际研究小组日发表的报告说他们对今年春...   3\n",
       "1      中国经济网北京月日综合报道记者袁志丽二十国集团领导人第七次峰会日在墨西哥洛斯卡沃斯开幕一些主...   0\n",
       "2      新华网天津月日电记者周润健蔡玉高在欣赏完了美丽的月偏食和震撼的金星凌日之后月天宇的第三场特殊...   9\n",
       "3      本报讯记者陈小平从月日至日为第三次志愿填报时间我省考生可填报本科三批专项计划专科批高职高专一...   2\n",
       "4      前排空间和后排空间车身和轴距均不算小但是内部空间并不能让人满意身材比较高大的人坐进去就会感觉...   5\n",
       "...                                                  ...  ..\n",
       "34994  苹果公司即将获得在中国注册的商标代价是万美元的真金白银月日深圳市中级人民法院向国家工商总局商...   9\n",
       "34995  乐高印第安纳琼斯冒险继续公布当年乐高与蝙蝠侠结合产生了乐高蝙蝠侠接着又与合作推出了乐高星球大...   7\n",
       "34997  月广州市汽车销售数据表明市场资源开始向强势品牌集中图文本报记者向寒松本报记者独家获得的有关数...   5\n",
       "34998  研究称尼罗河美女半身像或经美化图古埃及王后奈费尔提蒂素有尼罗河美女之称新浪科技讯北京时间月日...   3\n",
       "34999  财政部中介机构介绍失业者就业可获补贴本报讯记者鲍颖财政部昨日发出通知要求县级以上政府都要在财...  10\n",
       "\n",
       "[33366 rows x 2 columns]"
      ]
     },
     "metadata": {},
     "output_type": "display_data"
    }
   ],
   "source": [
    "# 去除字符长度小于20的标本\n",
    "news = news[~(news.content.str.len()<20)]\n",
    "display(news)"
   ]
  },
  {
   "cell_type": "code",
   "execution_count": 13,
   "metadata": {},
   "outputs": [
    {
     "name": "stderr",
     "output_type": "stream",
     "text": [
      "C:\\Users\\huang\\AppData\\Local\\Temp/ipykernel_19992/346849601.py:5: SettingWithCopyWarning: \n",
      "A value is trying to be set on a copy of a slice from a DataFrame.\n",
      "Try using .loc[row_indexer,col_indexer] = value instead\n",
      "\n",
      "See the caveats in the documentation: https://pandas.pydata.org/pandas-docs/stable/user_guide/indexing.html#returning-a-view-versus-a-copy\n",
      "  news['content'] = news['content'].apply(cut_word)\n"
     ]
    },
    {
     "data": {
      "text/html": [
       "<div>\n",
       "<style scoped>\n",
       "    .dataframe tbody tr th:only-of-type {\n",
       "        vertical-align: middle;\n",
       "    }\n",
       "\n",
       "    .dataframe tbody tr th {\n",
       "        vertical-align: top;\n",
       "    }\n",
       "\n",
       "    .dataframe thead th {\n",
       "        text-align: right;\n",
       "    }\n",
       "</style>\n",
       "<table border=\"1\" class=\"dataframe\">\n",
       "  <thead>\n",
       "    <tr style=\"text-align: right;\">\n",
       "      <th></th>\n",
       "      <th>content</th>\n",
       "      <th>tag</th>\n",
       "    </tr>\n",
       "  </thead>\n",
       "  <tbody>\n",
       "    <tr>\n",
       "      <th>10443</th>\n",
       "      <td>&lt;generator object Tokenizer.cut at 0x0000020A5...</td>\n",
       "      <td>7</td>\n",
       "    </tr>\n",
       "    <tr>\n",
       "      <th>7863</th>\n",
       "      <td>&lt;generator object Tokenizer.cut at 0x0000020A5...</td>\n",
       "      <td>7</td>\n",
       "    </tr>\n",
       "    <tr>\n",
       "      <th>1126</th>\n",
       "      <td>&lt;generator object Tokenizer.cut at 0x0000020A5...</td>\n",
       "      <td>0</td>\n",
       "    </tr>\n",
       "    <tr>\n",
       "      <th>10344</th>\n",
       "      <td>&lt;generator object Tokenizer.cut at 0x0000020A5...</td>\n",
       "      <td>5</td>\n",
       "    </tr>\n",
       "    <tr>\n",
       "      <th>10866</th>\n",
       "      <td>&lt;generator object Tokenizer.cut at 0x0000020A5...</td>\n",
       "      <td>10</td>\n",
       "    </tr>\n",
       "  </tbody>\n",
       "</table>\n",
       "</div>"
      ],
      "text/plain": [
       "                                                 content tag\n",
       "10443  <generator object Tokenizer.cut at 0x0000020A5...   7\n",
       "7863   <generator object Tokenizer.cut at 0x0000020A5...   7\n",
       "1126   <generator object Tokenizer.cut at 0x0000020A5...   0\n",
       "10344  <generator object Tokenizer.cut at 0x0000020A5...   5\n",
       "10866  <generator object Tokenizer.cut at 0x0000020A5...  10"
      ]
     },
     "execution_count": 13,
     "metadata": {},
     "output_type": "execute_result"
    }
   ],
   "source": [
    "#jieba分词\n",
    "import jieba\n",
    "def cut_word(text):\n",
    "    return jieba.cut(text)\n",
    "news['content'] = news['content'].apply(cut_word)\n",
    "news.sample(5)"
   ]
  },
  {
   "cell_type": "code",
   "execution_count": 14,
   "metadata": {},
   "outputs": [
    {
     "name": "stderr",
     "output_type": "stream",
     "text": [
      "Building prefix dict from the default dictionary ...\n",
      "Loading model from cache C:\\Users\\huang\\AppData\\Local\\Temp\\jieba.cache\n",
      "Loading model cost 1.785 seconds.\n",
      "Prefix dict has been built successfully.\n",
      "C:\\Users\\huang\\AppData\\Local\\Temp/ipykernel_19992/914136541.py:13: SettingWithCopyWarning: \n",
      "A value is trying to be set on a copy of a slice from a DataFrame.\n",
      "Try using .loc[row_indexer,col_indexer] = value instead\n",
      "\n",
      "See the caveats in the documentation: https://pandas.pydata.org/pandas-docs/stable/user_guide/indexing.html#returning-a-view-versus-a-copy\n",
      "  news['content'] = news['content'].apply(remove_stopword)\n"
     ]
    },
    {
     "data": {
      "text/html": [
       "<div>\n",
       "<style scoped>\n",
       "    .dataframe tbody tr th:only-of-type {\n",
       "        vertical-align: middle;\n",
       "    }\n",
       "\n",
       "    .dataframe tbody tr th {\n",
       "        vertical-align: top;\n",
       "    }\n",
       "\n",
       "    .dataframe thead th {\n",
       "        text-align: right;\n",
       "    }\n",
       "</style>\n",
       "<table border=\"1\" class=\"dataframe\">\n",
       "  <thead>\n",
       "    <tr style=\"text-align: right;\">\n",
       "      <th></th>\n",
       "      <th>content</th>\n",
       "      <th>tag</th>\n",
       "    </tr>\n",
       "  </thead>\n",
       "  <tbody>\n",
       "    <tr>\n",
       "      <th>0</th>\n",
       "      <td>[北极, 上空, 惊现, 臭氧, 空洞, 臭氧, 减少, 幅度, 打破记录, 新华社, 电,...</td>\n",
       "      <td>3</td>\n",
       "    </tr>\n",
       "    <tr>\n",
       "      <th>1</th>\n",
       "      <td>[中国, 经济网, 北京, 综合, 报道, 记者, 袁志丽二, 十国集团, 领导人, 第七次...</td>\n",
       "      <td>0</td>\n",
       "    </tr>\n",
       "    <tr>\n",
       "      <th>2</th>\n",
       "      <td>[新华网, 天津, 日电, 记者, 周润, 健, 蔡玉高, 欣赏, 完, 美丽, 月偏食, ...</td>\n",
       "      <td>9</td>\n",
       "    </tr>\n",
       "    <tr>\n",
       "      <th>3</th>\n",
       "      <td>[本报讯, 记者, 陈小平, 第三次, 志愿, 填报, 时间, 我省, 考生, 填报, 本科...</td>\n",
       "      <td>2</td>\n",
       "    </tr>\n",
       "    <tr>\n",
       "      <th>4</th>\n",
       "      <td>[前排, 空间, 后排, 空间, 车身, 轴距, 均, 不算, 内部空间, 满意, 身材, ...</td>\n",
       "      <td>5</td>\n",
       "    </tr>\n",
       "  </tbody>\n",
       "</table>\n",
       "</div>"
      ],
      "text/plain": [
       "                                             content tag\n",
       "0  [北极, 上空, 惊现, 臭氧, 空洞, 臭氧, 减少, 幅度, 打破记录, 新华社, 电,...   3\n",
       "1  [中国, 经济网, 北京, 综合, 报道, 记者, 袁志丽二, 十国集团, 领导人, 第七次...   0\n",
       "2  [新华网, 天津, 日电, 记者, 周润, 健, 蔡玉高, 欣赏, 完, 美丽, 月偏食, ...   9\n",
       "3  [本报讯, 记者, 陈小平, 第三次, 志愿, 填报, 时间, 我省, 考生, 填报, 本科...   2\n",
       "4  [前排, 空间, 后排, 空间, 车身, 轴距, 均, 不算, 内部空间, 满意, 身材, ...   5"
      ]
     },
     "execution_count": 14,
     "metadata": {},
     "output_type": "execute_result"
    }
   ],
   "source": [
    "#去除停用词\n",
    "def get_stopword():\n",
    "    s = set()\n",
    "    with open('../all_stopwords.txt','r',encoding='UTF-8') as f:\n",
    "        for line in f:\n",
    "            s.add(line.strip())\n",
    "    return s\n",
    "\n",
    "def remove_stopword(words):\n",
    "    return [word for word in words if word not in stopword]\n",
    "\n",
    "stopword = get_stopword()\n",
    "news['content'] = news['content'].apply(remove_stopword)\n",
    "news.sample(5)\n",
    "news.head()"
   ]
  },
  {
   "cell_type": "code",
   "execution_count": 15,
   "metadata": {},
   "outputs": [
    {
     "name": "stdout",
     "output_type": "stream",
     "text": [
      "3     4267\n",
      "10    3112\n",
      "7     3108\n",
      "0     3097\n",
      "8     3096\n",
      "1     3040\n",
      "9     2945\n",
      "2     2924\n",
      "5     2916\n",
      "6     2913\n",
      "4     1948\n",
      "Name: tag, dtype: int64\n"
     ]
    },
    {
     "data": {
      "text/plain": [
       "<AxesSubplot:>"
      ]
     },
     "execution_count": 15,
     "metadata": {},
     "output_type": "execute_result"
    },
    {
     "data": {
      "image/png": "[encoded data removed]",
      "text/plain": [
       "<Figure size 432x288 with 1 Axes>"
      ]
     },
     "metadata": {
      "needs_background": "light"
     },
     "output_type": "display_data"
    }
   ],
   "source": [
    "#查看每个标签拥有条数\n",
    "t= news['tag'].value_counts()\n",
    "print(t)\n",
    "t.plot(kind='bar')"
   ]
  },
  {
   "cell_type": "markdown",
   "metadata": {},
   "source": [
    "# 三、构建词云图"
   ]
  },
  {
   "cell_type": "code",
   "execution_count": 19,
   "metadata": {},
   "outputs": [
    {
     "name": "stdout",
     "output_type": "stream",
     "text": [
      "总词汇量:6887253\n",
      "不重复词汇量:256277\n",
      "[('中国', 31298), ('游戏', 19942), ('市场', 19246), ('公司', 18966), ('更', 18321), ('时间', 16515), ('发展', 15954), ('时', 15319), ('记者', 14688), ('新', 14645), ('北京', 14515), ('美国', 14158), ('企业', 12639), ('工作', 11714), ('玩家', 10855)]\n"
     ]
    }
   ],
   "source": [
    "from itertools import chain\n",
    "from collections import Counter\n",
    "\n",
    "li_2d = news['content'].tolist()\n",
    "li_1d = list(chain.from_iterable(li_2d))\n",
    "\n",
    "# 二维列表转换为一维列表\n",
    "\n",
    "print(f'总词汇量:{len(li_1d)}')\n",
    "c= Counter(li_1d)\n",
    "print(f'不重复词汇量:{len(c)}')\n",
    "common = c.most_common(15)\n",
    "print(common)"
   ]
  },
  {
   "cell_type": "code",
   "execution_count": 20,
   "metadata": {},
   "outputs": [],
   "source": [
    "from wordcloud import WordCloud\n",
    "import matplotlib.pyplot as plt\n",
    "wc = WordCloud(font_path=r'C:\\Windows\\Fonts\\simfang.ttf',width=800,height=600)\n",
    "# 可以自定义背景图：WordCloud(mask=plt.imread('文件路径'))\n",
    "# li_2d = news['content'].tolist()\n",
    "# li_1d = list(chain.from_iterable(li_2d))\n",
    "# join_words = ''.join(li_1d)\n",
    "# img = wc.generate(join_words)\n",
    "# generate()该方法生成的词云图非严格按照词汇出现频率，不精确\n",
    "# 传进去的参数需要前面加空格处理\n",
    "# plt.figure(figsize=(15,10))\n",
    "# plt.imshow(img)\n",
    "# plt.axis('off')\n",
    "# 关闭坐标轴\n",
    "# wc.to_file('wordcloud.png'）"
   ]
  },
  {
   "cell_type": "code",
   "execution_count": 21,
   "metadata": {},
   "outputs": [
    {
     "data": {
      "text/plain": [
       "(-0.5, 799.5, 599.5, -0.5)"
      ]
     },
     "execution_count": 21,
     "metadata": {},
     "output_type": "execute_result"
    },
    {
     "data": {
      "image/png": "[encoded data removed]",
      "text/plain": [
       "<Figure size 1080x720 with 1 Axes>"
      ]
     },
     "metadata": {
      "needs_background": "light"
     },
     "output_type": "display_data"
    }
   ],
   "source": [
    "plt.figure(figsize=(15,10))\n",
    "img = wc.generate_from_frequencies(c)\n",
    "# generate_from_frequencies()该方法生成的词云图严格按照词汇出现频率\n",
    "# 词汇出现频率越高，文字占比越大\n",
    "# 传进去的参数为频数，前面不需要加空格处理\n",
    "plt.imshow(img)\n",
    "plt.axis('off')"
   ]
  },
  {
   "cell_type": "markdown",
   "metadata": {},
   "source": [
    "# 四、构建训练与测试集"
   ]
  },
  {
   "cell_type": "code",
   "execution_count": 16,
   "metadata": {},
   "outputs": [
    {
     "name": "stderr",
     "output_type": "stream",
     "text": [
      "C:\\Users\\huang\\AppData\\Local\\Temp/ipykernel_19992/934685048.py:5: SettingWithCopyWarning: \n",
      "A value is trying to be set on a copy of a slice from a DataFrame.\n",
      "Try using .loc[row_indexer,col_indexer] = value instead\n",
      "\n",
      "See the caveats in the documentation: https://pandas.pydata.org/pandas-docs/stable/user_guide/indexing.html#returning-a-view-versus-a-copy\n",
      "  news['content'] = news['content'].apply(join)\n"
     ]
    },
    {
     "data": {
      "text/html": [
       "<div>\n",
       "<style scoped>\n",
       "    .dataframe tbody tr th:only-of-type {\n",
       "        vertical-align: middle;\n",
       "    }\n",
       "\n",
       "    .dataframe tbody tr th {\n",
       "        vertical-align: top;\n",
       "    }\n",
       "\n",
       "    .dataframe thead th {\n",
       "        text-align: right;\n",
       "    }\n",
       "</style>\n",
       "<table border=\"1\" class=\"dataframe\">\n",
       "  <thead>\n",
       "    <tr style=\"text-align: right;\">\n",
       "      <th></th>\n",
       "      <th>content</th>\n",
       "      <th>tag</th>\n",
       "    </tr>\n",
       "  </thead>\n",
       "  <tbody>\n",
       "    <tr>\n",
       "      <th>3136</th>\n",
       "      <td>台当局 悬赏 千万 新台币 查台军 工程 弊案 中国台湾 网月 消息 台湾 中央社 报道 台...</td>\n",
       "      <td>10</td>\n",
       "    </tr>\n",
       "    <tr>\n",
       "      <th>14651</th>\n",
       "      <td>银行 存贷 半年 考 大限 降 货币 市场 资金紧张 格局 渐现 端午节 前 交易日 上海银...</td>\n",
       "      <td>0</td>\n",
       "    </tr>\n",
       "    <tr>\n",
       "      <th>11465</th>\n",
       "      <td>老 倔头 发表 红太阳 陨落 文革 笑话 独裁者 末日 几个 用户名 疯狂 反毛非 毛为 己...</td>\n",
       "      <td>4</td>\n",
       "    </tr>\n",
       "    <tr>\n",
       "      <th>22448</th>\n",
       "      <td>幽灵 副 名称 铁血 战士 官方 正式 公布 育碧 开发 著名 幽灵 第四代 秘密 早 四月...</td>\n",
       "      <td>7</td>\n",
       "    </tr>\n",
       "    <tr>\n",
       "      <th>10201</th>\n",
       "      <td>本报讯 记者 刘新宇 记者 昨日 广东 银监局 广东 银监局 出台 进一步 改进 辖 银行 ...</td>\n",
       "      <td>0</td>\n",
       "    </tr>\n",
       "  </tbody>\n",
       "</table>\n",
       "</div>"
      ],
      "text/plain": [
       "                                                 content tag\n",
       "3136   台当局 悬赏 千万 新台币 查台军 工程 弊案 中国台湾 网月 消息 台湾 中央社 报道 台...  10\n",
       "14651  银行 存贷 半年 考 大限 降 货币 市场 资金紧张 格局 渐现 端午节 前 交易日 上海银...   0\n",
       "11465  老 倔头 发表 红太阳 陨落 文革 笑话 独裁者 末日 几个 用户名 疯狂 反毛非 毛为 己...   4\n",
       "22448  幽灵 副 名称 铁血 战士 官方 正式 公布 育碧 开发 著名 幽灵 第四代 秘密 早 四月...   7\n",
       "10201  本报讯 记者 刘新宇 记者 昨日 广东 银监局 广东 银监局 出台 进一步 改进 辖 银行 ...   0"
      ]
     },
     "execution_count": 16,
     "metadata": {},
     "output_type": "execute_result"
    }
   ],
   "source": [
    "# 构建训练与测试集\n",
    "def join(text_list):\n",
    "    return \" \".join(text_list)\n",
    "\n",
    "news['content'] = news['content'].apply(join)\n",
    "news.sample(5)"
   ]
  },
  {
   "cell_type": "code",
   "execution_count": 17,
   "metadata": {},
   "outputs": [
    {
     "name": "stdout",
     "output_type": "stream",
     "text": [
      "训练集样本数： 25024 测试集样本数： 8342\n"
     ]
    }
   ],
   "source": [
    "from sklearn.model_selection import train_test_split\n",
    "\n",
    "X = news['content']\n",
    "y = news['tag']\n",
    "X_train,X_test,y_train,y_test = train_test_split(X,y,test_size=0.25)  # 3:1\n",
    "print('训练集样本数：',y_train.shape[0],'测试集样本数：',y_test.shape[0])"
   ]
  },
  {
   "cell_type": "markdown",
   "metadata": {},
   "source": [
    "# 五、TF-IDF构造词向量"
   ]
  },
  {
   "cell_type": "code",
   "execution_count": 18,
   "metadata": {},
   "outputs": [
    {
     "data": {
      "text/plain": [
       "<25024x3369752 sparse matrix of type '<class 'numpy.float64'>'\n",
       "\twith 7847849 stored elements in Compressed Sparse Row format>"
      ]
     },
     "metadata": {},
     "output_type": "display_data"
    },
    {
     "data": {
      "text/plain": [
       "<8342x3369752 sparse matrix of type '<class 'numpy.float64'>'\n",
       "\twith 1717300 stored elements in Compressed Sparse Row format>"
      ]
     },
     "metadata": {},
     "output_type": "display_data"
    }
   ],
   "source": [
    "from sklearn.feature_extraction.text import TfidfVectorizer\n",
    "# TfidfVectorizer（）对X向量化操作\n",
    "vec = TfidfVectorizer(ngram_range=(1,2),analyzer='word',token_pattern=u\"(?u)\\\\b\\\\w+\\\\b\")\n",
    "# ngram_range=(1,2)对切分的一维/二维元组再进行向量化，减少语句本来不同\n",
    "# ——但切分出的单词相同带来的误差 \n",
    "# 用训练集来构建词向量  然后让它fit测试集！\n",
    "X_train_tran = vec.fit_transform(X_train)\n",
    "X_test_tran = vec.transform(X_test)\n",
    "display(X_train_tran,X_test_tran)\n",
    "#注意：tf–idf不会减小向量维度，也不会减少向量中0的个数，只是将词的重要性(之前是出现次数表示特征重要性大小)以一种更合理的方式重新计算了"
   ]
  },
  {
   "cell_type": "code",
   "execution_count": 19,
   "metadata": {},
   "outputs": [
    {
     "data": {
      "text/plain": [
       "(array([0.97398129, 0.97398129, 0.89648051, ..., 0.68981347, 0.68981347,\n",
       "        0.68981347]),\n",
       " array([0.46363983, 0.46363983, 0.53546337, ..., 0.73501117, 0.73501117,\n",
       "        0.73501117]))"
      ]
     },
     "execution_count": 19,
     "metadata": {},
     "output_type": "execute_result"
    }
   ],
   "source": [
    "# 词袋模型向量化后会产生过多特征，用方差分析进行特征选择，选出与目标相对\n",
    "# 变量最相关的20000个特征\n",
    "from sklearn.feature_selection import f_classif\n",
    "\n",
    "f_classif(X_train_tran,y_train)"
   ]
  },
  {
   "cell_type": "code",
   "execution_count": 20,
   "metadata": {},
   "outputs": [
    {
     "name": "stdout",
     "output_type": "stream",
     "text": [
      "(25024, 20000) (8342, 20000)\n"
     ]
    }
   ],
   "source": [
    "from sklearn.feature_selection import SelectKBest\n",
    "import numpy as np\n",
    "\n",
    "X_train_tran = X_train_tran.astype(np.float32)\n",
    "X_test_tran = X_test_tran.astype(np.float32)\n",
    "selector = SelectKBest(f_classif,k=min(20000,X_train_tran.shape[1]))\n",
    "selector.fit(X_train_tran,y_train)\n",
    "character  = selector.get_support(indices = True)\n",
    "#print(character)\n",
    "X_train_tran = selector.transform(X_train_tran)\n",
    "X_test_tran = selector.transform(X_test_tran)\n",
    "print(X_train_tran.shape,X_test_tran.shape)"
   ]
  },
  {
   "cell_type": "markdown",
   "metadata": {},
   "source": [
    "# 使用词袋构建词向量"
   ]
  },
  {
   "cell_type": "code",
   "execution_count": 21,
   "metadata": {},
   "outputs": [
    {
     "name": "stdout",
     "output_type": "stream",
     "text": [
      "词频统计：\n",
      "  (0, 16385)\t6\n",
      "  (0, 196413)\t1\n",
      "  (0, 34962)\t3\n",
      "  (0, 105681)\t1\n",
      "  (0, 179747)\t9\n",
      "  (0, 35236)\t3\n",
      "  (0, 177297)\t12\n",
      "  (0, 116844)\t1\n",
      "  (0, 180881)\t2\n",
      "  (0, 213327)\t1\n",
      "  (0, 112557)\t1\n",
      "  (0, 174267)\t1\n",
      "  (0, 182246)\t1\n",
      "  (0, 183327)\t1\n",
      "  (0, 89160)\t2\n",
      "  (0, 35234)\t8\n",
      "  (0, 47851)\t4\n",
      "  (0, 163386)\t3\n",
      "  (0, 103261)\t3\n",
      "  (0, 196452)\t1\n",
      "  (0, 134088)\t1\n",
      "  (0, 110292)\t1\n",
      "  (0, 161857)\t1\n",
      "  (0, 84929)\t4\n",
      "  (0, 154757)\t1\n",
      "  :\t:\n",
      "  (25023, 1208)\t1\n",
      "  (25023, 138864)\t1\n",
      "  (25023, 145837)\t2\n",
      "  (25023, 20324)\t1\n",
      "  (25023, 91300)\t1\n",
      "  (25023, 159664)\t1\n",
      "  (25023, 103746)\t1\n",
      "  (25023, 164187)\t1\n",
      "  (25023, 145844)\t1\n",
      "  (25023, 589)\t1\n",
      "  (25023, 147)\t1\n",
      "  (25023, 105707)\t1\n",
      "  (25023, 199959)\t1\n",
      "  (25023, 47996)\t1\n",
      "  (25023, 200171)\t1\n",
      "  (25023, 20518)\t1\n",
      "  (25023, 121834)\t1\n",
      "  (25023, 193907)\t1\n",
      "  (25023, 147709)\t1\n",
      "  (25023, 159458)\t1\n",
      "  (25023, 110305)\t1\n",
      "  (25023, 6449)\t1\n",
      "  (25023, 138865)\t2\n",
      "  (25023, 110097)\t1\n",
      "  (25023, 193928)\t1\n"
     ]
    }
   ],
   "source": [
    "## 词袋构建向量\n",
    "\n",
    "from sklearn.feature_extraction.text import CountVectorizer  \n",
    "vectorizer=CountVectorizer()\n",
    "print(\"词频统计：\")\n",
    "X_train_bag = vectorizer.fit_transform(X_train)\n",
    "X_test_bag = vectorizer.transform(X_test)\n",
    "print(X_train_bag) # (文本序号，词序号)  出现次数\n"
   ]
  },
  {
   "cell_type": "code",
   "execution_count": 22,
   "metadata": {},
   "outputs": [
    {
     "data": {
      "text/plain": [
       "((25024, 215705), (8342, 215705))"
      ]
     },
     "execution_count": 22,
     "metadata": {},
     "output_type": "execute_result"
    }
   ],
   "source": [
    "X_train_bag.shape,X_test_bag.shape  #用训练集构建的词向量转换器fit测试集！"
   ]
  },
  {
   "cell_type": "code",
   "execution_count": 23,
   "metadata": {},
   "outputs": [
    {
     "name": "stdout",
     "output_type": "stream",
     "text": [
      "(25024, 20000) (8342, 20000)\n"
     ]
    }
   ],
   "source": [
    "# 也用方差分析！\n",
    "from sklearn.feature_selection import SelectKBest\n",
    "import numpy as np\n",
    "\n",
    "X_train_bag = X_train_bag.astype(np.float32)\n",
    "X_test_bag = X_test_bag.astype(np.float32)\n",
    "selector = SelectKBest(f_classif,k=min(20000,X_train_bag.shape[1]))\n",
    "selector.fit(X_train_bag,y_train)\n",
    "character  = selector.get_support(indices = True)\n",
    "#print(character)\n",
    "X_train_bag = selector.transform(X_train_bag)\n",
    "X_test_bag = selector.transform(X_test_bag)\n",
    "print(X_train_bag.shape,X_test_bag.shape)"
   ]
  },
  {
   "cell_type": "markdown",
   "metadata": {},
   "source": [
    "# 六、开始机器学习"
   ]
  },
  {
   "cell_type": "code",
   "execution_count": 89,
   "metadata": {},
   "outputs": [],
   "source": [
    "# 逻辑回归\n",
    "from sklearn.linear_model import  LogisticRegression\n",
    "from sklearn.model_selection import GridSearchCV\n",
    "from sklearn.metrics import classification_report\n",
    "\n",
    "param = [{'penalty':['l1','l2'], 'C':[0.1,1,10],\n",
    "        'solver':['liblinear']},\n",
    "         {'penalty':['elasticnet'],'C':[0.1,1,10],\n",
    "        'solver':['saga'],'l1_ratio':[0.5]}\n",
    "        ]\n",
    "\n",
    "\n",
    "#print(classification_report(y_test,y_hat))"
   ]
  },
  {
   "cell_type": "code",
   "execution_count": 90,
   "metadata": {},
   "outputs": [
    {
     "name": "stdout",
     "output_type": "stream",
     "text": [
      "0.8191081275473507\n"
     ]
    },
    {
     "name": "stderr",
     "output_type": "stream",
     "text": [
      "D:\\Anaconda3\\envs\\LoveZiqi\\lib\\site-packages\\sklearn\\linear_model\\logistic.py:946: ConvergenceWarning: lbfgs failed to converge. Increase the number of iterations.\n",
      "  warnings.warn(\"lbfgs failed to converge. Increase the number \"\n"
     ]
    }
   ],
   "source": [
    "from sklearn import linear_model\n",
    "# 决策树预测tf-idf\n",
    "model_softmax_regression = linear_model.LogisticRegression(solver='lbfgs',multi_class=\"multinomial\",max_iter=10)\n",
    "model_softmax_regression.fit(X_train_tran, y_train)\n",
    "y_predict = model_softmax_regression.predict(X_test_tran)\n",
    "accurcy = np.sum(y_predict == y_test) / len(y_test)\n",
    "print(accurcy)"
   ]
  },
  {
   "cell_type": "code",
   "execution_count": 91,
   "metadata": {},
   "outputs": [
    {
     "name": "stdout",
     "output_type": "stream",
     "text": [
      "              precision    recall  f1-score   support\n",
      "\n",
      "           0       0.64      0.73      0.68       754\n",
      "           1       0.96      0.76      0.85       755\n",
      "          10       0.77      0.85      0.81       816\n",
      "           2       0.86      0.83      0.85       739\n",
      "           3       0.92      0.65      0.77      1024\n",
      "           4       0.61      0.83      0.70       462\n",
      "           5       0.93      0.89      0.91       712\n",
      "           6       0.93      0.97      0.95       725\n",
      "           7       0.96      0.94      0.95       785\n",
      "           8       0.79      0.93      0.85       802\n",
      "           9       0.70      0.69      0.70       768\n",
      "\n",
      "    accuracy                           0.82      8342\n",
      "   macro avg       0.82      0.82      0.82      8342\n",
      "weighted avg       0.83      0.82      0.82      8342\n",
      "\n"
     ]
    }
   ],
   "source": [
    "print(classification_report(y_test,y_predict))"
   ]
  },
  {
   "cell_type": "code",
   "execution_count": 113,
   "metadata": {},
   "outputs": [
    {
     "name": "stdout",
     "output_type": "stream",
     "text": [
      "0.873651402541357\n"
     ]
    },
    {
     "name": "stderr",
     "output_type": "stream",
     "text": [
      "D:\\Anaconda3\\envs\\LoveZiqi\\lib\\site-packages\\sklearn\\linear_model\\logistic.py:946: ConvergenceWarning: lbfgs failed to converge. Increase the number of iterations.\n",
      "  warnings.warn(\"lbfgs failed to converge. Increase the number \"\n"
     ]
    }
   ],
   "source": [
    "# 决策树预测词袋\n",
    "model_softmax_regression = linear_model.LogisticRegression(solver='lbfgs',multi_class=\"multinomial\",max_iter=10)\n",
    "model_softmax_regression.fit(X_train_bag, y_train)\n",
    "y_predict = model_softmax_regression.predict(X_test_bag)\n",
    "accurcy = np.sum(y_predict == y_test) / len(y_test)\n",
    "print(accurcy)"
   ]
  },
  {
   "cell_type": "code",
   "execution_count": 114,
   "metadata": {},
   "outputs": [
    {
     "name": "stdout",
     "output_type": "stream",
     "text": [
      "              precision    recall  f1-score   support\n",
      "\n",
      "           0       0.74      0.73      0.73       754\n",
      "           1       0.93      0.92      0.92       755\n",
      "          10       0.86      0.90      0.88       816\n",
      "           2       0.89      0.86      0.87       739\n",
      "           3       0.87      0.85      0.86      1024\n",
      "           4       0.88      0.84      0.86       462\n",
      "           5       0.93      0.92      0.93       712\n",
      "           6       0.94      0.97      0.95       725\n",
      "           7       0.98      0.96      0.97       785\n",
      "           8       0.92      0.94      0.93       802\n",
      "           9       0.69      0.73      0.71       768\n",
      "\n",
      "    accuracy                           0.87      8342\n",
      "   macro avg       0.87      0.87      0.87      8342\n",
      "weighted avg       0.87      0.87      0.87      8342\n",
      "\n"
     ]
    }
   ],
   "source": [
    "print(classification_report(y_test,y_predict))"
   ]
  },
  {
   "cell_type": "code",
   "execution_count": 120,
   "metadata": {},
   "outputs": [
    {
     "name": "stdout",
     "output_type": "stream",
     "text": [
      "Fitting 2 folds for each of 4 candidates, totalling 8 fits\n",
      "[CV] n_neighbors=5, p=2, weights=uniform .............................\n"
     ]
    },
    {
     "name": "stderr",
     "output_type": "stream",
     "text": [
      "[Parallel(n_jobs=1)]: Using backend SequentialBackend with 1 concurrent workers.\n"
     ]
    },
    {
     "name": "stdout",
     "output_type": "stream",
     "text": [
      "[CV] . n_neighbors=5, p=2, weights=uniform, score=0.502, total=   7.0s\n",
      "[CV] n_neighbors=5, p=2, weights=uniform .............................\n"
     ]
    },
    {
     "name": "stderr",
     "output_type": "stream",
     "text": [
      "[Parallel(n_jobs=1)]: Done   1 out of   1 | elapsed:    6.9s remaining:    0.0s\n"
     ]
    },
    {
     "name": "stdout",
     "output_type": "stream",
     "text": [
      "[CV] . n_neighbors=5, p=2, weights=uniform, score=0.444, total=   6.9s\n",
      "[CV] n_neighbors=5, p=2, weights=distance ............................\n"
     ]
    },
    {
     "name": "stderr",
     "output_type": "stream",
     "text": [
      "[Parallel(n_jobs=1)]: Done   2 out of   2 | elapsed:   13.7s remaining:    0.0s\n"
     ]
    },
    {
     "name": "stdout",
     "output_type": "stream",
     "text": [
      "[CV]  n_neighbors=5, p=2, weights=distance, score=0.531, total=   6.6s\n",
      "[CV] n_neighbors=5, p=2, weights=distance ............................\n"
     ]
    },
    {
     "name": "stderr",
     "output_type": "stream",
     "text": [
      "[Parallel(n_jobs=1)]: Done   3 out of   3 | elapsed:   20.4s remaining:    0.0s\n"
     ]
    },
    {
     "name": "stdout",
     "output_type": "stream",
     "text": [
      "[CV]  n_neighbors=5, p=2, weights=distance, score=0.461, total=   6.6s\n",
      "[CV] n_neighbors=7, p=2, weights=uniform .............................\n"
     ]
    },
    {
     "name": "stderr",
     "output_type": "stream",
     "text": [
      "[Parallel(n_jobs=1)]: Done   4 out of   4 | elapsed:   27.0s remaining:    0.0s\n"
     ]
    },
    {
     "name": "stdout",
     "output_type": "stream",
     "text": [
      "[CV] . n_neighbors=7, p=2, weights=uniform, score=0.493, total=   6.8s\n",
      "[CV] n_neighbors=7, p=2, weights=uniform .............................\n"
     ]
    },
    {
     "name": "stderr",
     "output_type": "stream",
     "text": [
      "[Parallel(n_jobs=1)]: Done   5 out of   5 | elapsed:   33.8s remaining:    0.0s\n"
     ]
    },
    {
     "name": "stdout",
     "output_type": "stream",
     "text": [
      "[CV] . n_neighbors=7, p=2, weights=uniform, score=0.449, total=   6.9s\n",
      "[CV] n_neighbors=7, p=2, weights=distance ............................\n"
     ]
    },
    {
     "name": "stderr",
     "output_type": "stream",
     "text": [
      "[Parallel(n_jobs=1)]: Done   6 out of   6 | elapsed:   40.7s remaining:    0.0s\n"
     ]
    },
    {
     "name": "stdout",
     "output_type": "stream",
     "text": [
      "[CV]  n_neighbors=7, p=2, weights=distance, score=0.538, total=   6.7s\n",
      "[CV] n_neighbors=7, p=2, weights=distance ............................\n"
     ]
    },
    {
     "name": "stderr",
     "output_type": "stream",
     "text": [
      "[Parallel(n_jobs=1)]: Done   7 out of   7 | elapsed:   47.4s remaining:    0.0s\n"
     ]
    },
    {
     "name": "stdout",
     "output_type": "stream",
     "text": [
      "[CV]  n_neighbors=7, p=2, weights=distance, score=0.471, total=   6.8s\n"
     ]
    },
    {
     "name": "stderr",
     "output_type": "stream",
     "text": [
      "[Parallel(n_jobs=1)]: Done   8 out of   8 | elapsed:   54.2s remaining:    0.0s\n",
      "[Parallel(n_jobs=1)]: Done   8 out of   8 | elapsed:   54.2s finished\n"
     ]
    },
    {
     "ename": "AttributeError",
     "evalue": "'GridSearchCV' object has no attribute 'best_params'",
     "output_type": "error",
     "traceback": [
      "\u001b[1;31m---------------------------------------------------------------------------\u001b[0m",
      "\u001b[1;31mAttributeError\u001b[0m                            Traceback (most recent call last)",
      "\u001b[1;32m~\\AppData\\Local\\Temp/ipykernel_71072/3956614147.py\u001b[0m in \u001b[0;36m<module>\u001b[1;34m\u001b[0m\n\u001b[0;32m      9\u001b[0m                  cv=2,  verbose=10)\n\u001b[0;32m     10\u001b[0m \u001b[0mgs\u001b[0m\u001b[1;33m.\u001b[0m\u001b[0mfit\u001b[0m\u001b[1;33m(\u001b[0m\u001b[0mX_train_tran\u001b[0m\u001b[1;33m,\u001b[0m\u001b[0my_train\u001b[0m\u001b[1;33m)\u001b[0m\u001b[1;33m\u001b[0m\u001b[1;33m\u001b[0m\u001b[0m\n\u001b[1;32m---> 11\u001b[1;33m \u001b[0mprint\u001b[0m\u001b[1;33m(\u001b[0m\u001b[0mgs\u001b[0m\u001b[1;33m.\u001b[0m\u001b[0mbest_params\u001b[0m\u001b[1;33m)\u001b[0m\u001b[1;33m\u001b[0m\u001b[1;33m\u001b[0m\u001b[0m\n\u001b[0m\u001b[0;32m     12\u001b[0m \u001b[1;31m# gs.best_estimator_.fit(X_train_tran,y_train)\u001b[0m\u001b[1;33m\u001b[0m\u001b[1;33m\u001b[0m\u001b[1;33m\u001b[0m\u001b[0m\n\u001b[0;32m     13\u001b[0m \u001b[1;33m\u001b[0m\u001b[0m\n",
      "\u001b[1;31mAttributeError\u001b[0m: 'GridSearchCV' object has no attribute 'best_params'"
     ]
    }
   ],
   "source": [
    "# KNN\n",
    "from sklearn.neighbors import KNeighborsClassifier\n",
    "\n",
    "param = {'n_neighbors':[5,7],\n",
    "        'weights':['uniform','distance'],\n",
    "        'p':[2]\n",
    "        }\n",
    "gs = GridSearchCV(estimator=KNeighborsClassifier(),param_grid=param,\n",
    "                 cv=2,  verbose=10)\n",
    "gs.fit(X_train_tran,y_train)"
   ]
  },
  {
   "cell_type": "code",
   "execution_count": 122,
   "metadata": {},
   "outputs": [
    {
     "name": "stdout",
     "output_type": "stream",
     "text": [
      "{'n_neighbors': 7, 'p': 2, 'weights': 'distance'}\n"
     ]
    }
   ],
   "source": [
    "print(gs.best_params_)"
   ]
  },
  {
   "cell_type": "code",
   "execution_count": 123,
   "metadata": {},
   "outputs": [
    {
     "name": "stdout",
     "output_type": "stream",
     "text": [
      "              precision    recall  f1-score   support\n",
      "\n",
      "           0       0.70      0.49      0.57       754\n",
      "           1       0.82      0.82      0.82       755\n",
      "          10       0.91      0.63      0.75       816\n",
      "           2       0.77      0.77      0.77       739\n",
      "           3       0.80      0.71      0.75      1024\n",
      "           4       0.22      0.83      0.34       462\n",
      "           5       0.88      0.66      0.76       712\n",
      "           6       0.95      0.78      0.85       725\n",
      "           7       0.97      0.73      0.83       785\n",
      "           8       0.83      0.63      0.72       802\n",
      "           9       0.61      0.59      0.60       768\n",
      "\n",
      "    accuracy                           0.69      8342\n",
      "   macro avg       0.77      0.69      0.71      8342\n",
      "weighted avg       0.79      0.69      0.72      8342\n",
      "\n"
     ]
    }
   ],
   "source": [
    "\n",
    "y_hat = gs.best_estimator_.predict(X_test_tran)\n",
    "print(classification_report(y_test,y_hat))"
   ]
  },
  {
   "cell_type": "code",
   "execution_count": 124,
   "metadata": {},
   "outputs": [
    {
     "name": "stdout",
     "output_type": "stream",
     "text": [
      "Fitting 2 folds for each of 4 candidates, totalling 8 fits\n",
      "[CV] n_neighbors=5, p=2, weights=uniform .............................\n"
     ]
    },
    {
     "name": "stderr",
     "output_type": "stream",
     "text": [
      "[Parallel(n_jobs=1)]: Using backend SequentialBackend with 1 concurrent workers.\n"
     ]
    },
    {
     "name": "stdout",
     "output_type": "stream",
     "text": [
      "[CV] . n_neighbors=5, p=2, weights=uniform, score=0.628, total=   6.8s\n",
      "[CV] n_neighbors=5, p=2, weights=uniform .............................\n"
     ]
    },
    {
     "name": "stderr",
     "output_type": "stream",
     "text": [
      "[Parallel(n_jobs=1)]: Done   1 out of   1 | elapsed:    6.8s remaining:    0.0s\n"
     ]
    },
    {
     "name": "stdout",
     "output_type": "stream",
     "text": [
      "[CV] . n_neighbors=5, p=2, weights=uniform, score=0.599, total=   6.7s\n",
      "[CV] n_neighbors=5, p=2, weights=distance ............................\n"
     ]
    },
    {
     "name": "stderr",
     "output_type": "stream",
     "text": [
      "[Parallel(n_jobs=1)]: Done   2 out of   2 | elapsed:   13.5s remaining:    0.0s\n"
     ]
    },
    {
     "name": "stdout",
     "output_type": "stream",
     "text": [
      "[CV]  n_neighbors=5, p=2, weights=distance, score=0.645, total=   6.5s\n",
      "[CV] n_neighbors=5, p=2, weights=distance ............................\n"
     ]
    },
    {
     "name": "stderr",
     "output_type": "stream",
     "text": [
      "[Parallel(n_jobs=1)]: Done   3 out of   3 | elapsed:   20.0s remaining:    0.0s\n"
     ]
    },
    {
     "name": "stdout",
     "output_type": "stream",
     "text": [
      "[CV]  n_neighbors=5, p=2, weights=distance, score=0.620, total=   6.5s\n",
      "[CV] n_neighbors=7, p=2, weights=uniform .............................\n"
     ]
    },
    {
     "name": "stderr",
     "output_type": "stream",
     "text": [
      "[Parallel(n_jobs=1)]: Done   4 out of   4 | elapsed:   26.5s remaining:    0.0s\n"
     ]
    },
    {
     "name": "stdout",
     "output_type": "stream",
     "text": [
      "[CV] . n_neighbors=7, p=2, weights=uniform, score=0.623, total=   6.7s\n",
      "[CV] n_neighbors=7, p=2, weights=uniform .............................\n"
     ]
    },
    {
     "name": "stderr",
     "output_type": "stream",
     "text": [
      "[Parallel(n_jobs=1)]: Done   5 out of   5 | elapsed:   33.2s remaining:    0.0s\n"
     ]
    },
    {
     "name": "stdout",
     "output_type": "stream",
     "text": [
      "[CV] . n_neighbors=7, p=2, weights=uniform, score=0.595, total=   6.6s\n",
      "[CV] n_neighbors=7, p=2, weights=distance ............................\n"
     ]
    },
    {
     "name": "stderr",
     "output_type": "stream",
     "text": [
      "[Parallel(n_jobs=1)]: Done   6 out of   6 | elapsed:   39.8s remaining:    0.0s\n"
     ]
    },
    {
     "name": "stdout",
     "output_type": "stream",
     "text": [
      "[CV]  n_neighbors=7, p=2, weights=distance, score=0.640, total=   6.4s\n",
      "[CV] n_neighbors=7, p=2, weights=distance ............................\n"
     ]
    },
    {
     "name": "stderr",
     "output_type": "stream",
     "text": [
      "[Parallel(n_jobs=1)]: Done   7 out of   7 | elapsed:   46.2s remaining:    0.0s\n"
     ]
    },
    {
     "name": "stdout",
     "output_type": "stream",
     "text": [
      "[CV]  n_neighbors=7, p=2, weights=distance, score=0.620, total=   6.5s\n"
     ]
    },
    {
     "name": "stderr",
     "output_type": "stream",
     "text": [
      "[Parallel(n_jobs=1)]: Done   8 out of   8 | elapsed:   52.7s remaining:    0.0s\n",
      "[Parallel(n_jobs=1)]: Done   8 out of   8 | elapsed:   52.7s finished\n"
     ]
    },
    {
     "data": {
      "text/plain": [
       "GridSearchCV(cv=2, error_score='raise-deprecating',\n",
       "             estimator=KNeighborsClassifier(algorithm='auto', leaf_size=30,\n",
       "                                            metric='minkowski',\n",
       "                                            metric_params=None, n_jobs=None,\n",
       "                                            n_neighbors=5, p=2,\n",
       "                                            weights='uniform'),\n",
       "             iid='warn', n_jobs=None,\n",
       "             param_grid={'n_neighbors': [5, 7], 'p': [2],\n",
       "                         'weights': ['uniform', 'distance']},\n",
       "             pre_dispatch='2*n_jobs', refit=True, return_train_score=False,\n",
       "             scoring=None, verbose=10)"
      ]
     },
     "execution_count": 124,
     "metadata": {},
     "output_type": "execute_result"
    }
   ],
   "source": [
    "# KNN测词袋\n",
    "gs = GridSearchCV(estimator=KNeighborsClassifier(),param_grid=param,\n",
    "                 cv=2,  verbose=10)\n",
    "gs.fit(X_train_bag,y_train)"
   ]
  },
  {
   "cell_type": "code",
   "execution_count": 126,
   "metadata": {},
   "outputs": [
    {
     "name": "stdout",
     "output_type": "stream",
     "text": [
      "{'n_neighbors': 5, 'p': 2, 'weights': 'distance'}\n",
      "              precision    recall  f1-score   support\n",
      "\n",
      "           0       0.67      0.55      0.61       754\n",
      "           1       0.90      0.76      0.83       755\n",
      "          10       0.88      0.59      0.71       816\n",
      "           2       0.67      0.76      0.71       739\n",
      "           3       0.81      0.58      0.68      1024\n",
      "           4       0.27      0.80      0.40       462\n",
      "           5       0.70      0.77      0.73       712\n",
      "           6       0.76      0.85      0.80       725\n",
      "           7       0.93      0.82      0.87       785\n",
      "           8       0.75      0.64      0.69       802\n",
      "           9       0.60      0.49      0.54       768\n",
      "\n",
      "    accuracy                           0.68      8342\n",
      "   macro avg       0.72      0.69      0.69      8342\n",
      "weighted avg       0.74      0.68      0.70      8342\n",
      "\n"
     ]
    }
   ],
   "source": [
    "print(gs.best_params_)\n",
    "\n",
    "y_hat = gs.best_estimator_.predict(X_test_bag)\n",
    "print(classification_report(y_test,y_hat))"
   ]
  },
  {
   "cell_type": "code",
   "execution_count": 127,
   "metadata": {},
   "outputs": [
    {
     "name": "stdout",
     "output_type": "stream",
     "text": [
      "Fitting 2 folds for each of 4 candidates, totalling 8 fits\n",
      "[CV] criterion=gini, max_depth=10 ....................................\n"
     ]
    },
    {
     "name": "stderr",
     "output_type": "stream",
     "text": [
      "[Parallel(n_jobs=1)]: Using backend SequentialBackend with 1 concurrent workers.\n"
     ]
    },
    {
     "name": "stdout",
     "output_type": "stream",
     "text": [
      "[CV] ........ criterion=gini, max_depth=10, score=0.519, total=   1.1s\n",
      "[CV] criterion=gini, max_depth=10 ....................................\n"
     ]
    },
    {
     "name": "stderr",
     "output_type": "stream",
     "text": [
      "[Parallel(n_jobs=1)]: Done   1 out of   1 | elapsed:    1.0s remaining:    0.0s\n"
     ]
    },
    {
     "name": "stdout",
     "output_type": "stream",
     "text": [
      "[CV] ........ criterion=gini, max_depth=10, score=0.501, total=   1.1s\n",
      "[CV] criterion=gini, max_depth=15 ....................................\n"
     ]
    },
    {
     "name": "stderr",
     "output_type": "stream",
     "text": [
      "[Parallel(n_jobs=1)]: Done   2 out of   2 | elapsed:    2.0s remaining:    0.0s\n"
     ]
    },
    {
     "name": "stdout",
     "output_type": "stream",
     "text": [
      "[CV] ........ criterion=gini, max_depth=15, score=0.598, total=   1.6s\n",
      "[CV] criterion=gini, max_depth=15 ....................................\n"
     ]
    },
    {
     "name": "stderr",
     "output_type": "stream",
     "text": [
      "[Parallel(n_jobs=1)]: Done   3 out of   3 | elapsed:    3.6s remaining:    0.0s\n"
     ]
    },
    {
     "name": "stdout",
     "output_type": "stream",
     "text": [
      "[CV] ........ criterion=gini, max_depth=15, score=0.592, total=   1.6s\n",
      "[CV] criterion=entropy, max_depth=10 .................................\n"
     ]
    },
    {
     "name": "stderr",
     "output_type": "stream",
     "text": [
      "[Parallel(n_jobs=1)]: Done   4 out of   4 | elapsed:    5.2s remaining:    0.0s\n"
     ]
    },
    {
     "name": "stdout",
     "output_type": "stream",
     "text": [
      "[CV] ..... criterion=entropy, max_depth=10, score=0.532, total=   2.8s\n",
      "[CV] criterion=entropy, max_depth=10 .................................\n"
     ]
    },
    {
     "name": "stderr",
     "output_type": "stream",
     "text": [
      "[Parallel(n_jobs=1)]: Done   5 out of   5 | elapsed:    8.0s remaining:    0.0s\n"
     ]
    },
    {
     "name": "stdout",
     "output_type": "stream",
     "text": [
      "[CV] ..... criterion=entropy, max_depth=10, score=0.526, total=   2.8s\n",
      "[CV] criterion=entropy, max_depth=15 .................................\n"
     ]
    },
    {
     "name": "stderr",
     "output_type": "stream",
     "text": [
      "[Parallel(n_jobs=1)]: Done   6 out of   6 | elapsed:   10.8s remaining:    0.0s\n"
     ]
    },
    {
     "name": "stdout",
     "output_type": "stream",
     "text": [
      "[CV] ..... criterion=entropy, max_depth=15, score=0.600, total=   3.9s\n",
      "[CV] criterion=entropy, max_depth=15 .................................\n"
     ]
    },
    {
     "name": "stderr",
     "output_type": "stream",
     "text": [
      "[Parallel(n_jobs=1)]: Done   7 out of   7 | elapsed:   14.7s remaining:    0.0s\n"
     ]
    },
    {
     "name": "stdout",
     "output_type": "stream",
     "text": [
      "[CV] ..... criterion=entropy, max_depth=15, score=0.591, total=   3.9s\n"
     ]
    },
    {
     "name": "stderr",
     "output_type": "stream",
     "text": [
      "[Parallel(n_jobs=1)]: Done   8 out of   8 | elapsed:   18.6s remaining:    0.0s\n",
      "[Parallel(n_jobs=1)]: Done   8 out of   8 | elapsed:   18.6s finished\n"
     ]
    },
    {
     "name": "stdout",
     "output_type": "stream",
     "text": [
      "{'criterion': 'entropy', 'max_depth': 15}\n",
      "              precision    recall  f1-score   support\n",
      "\n",
      "           0       0.84      0.31      0.45       754\n",
      "           1       0.93      0.71      0.80       755\n",
      "          10       0.74      0.53      0.62       816\n",
      "           2       0.83      0.58      0.69       739\n",
      "           3       0.92      0.62      0.74      1024\n",
      "           4       0.13      0.90      0.23       462\n",
      "           5       0.93      0.81      0.86       712\n",
      "           6       0.91      0.53      0.67       725\n",
      "           7       0.93      0.84      0.88       785\n",
      "           8       0.98      0.61      0.75       802\n",
      "           9       0.89      0.26      0.40       768\n",
      "\n",
      "    accuracy                           0.60      8342\n",
      "   macro avg       0.82      0.61      0.64      8342\n",
      "weighted avg       0.85      0.60      0.66      8342\n",
      "\n"
     ]
    }
   ],
   "source": [
    "# 决策树测tf-idf\n",
    "from sklearn.tree import DecisionTreeClassifier\n",
    "\n",
    "param = {'criterion':['gini','entropy'],\n",
    "        'max_depth':[10,15]\n",
    "        }\n",
    "gs = GridSearchCV(estimator=DecisionTreeClassifier(),param_grid=param,\n",
    "                 cv=2, n_jobs=1, verbose=10)\n",
    "gs.fit(X_train_tran,y_train)\n",
    "print(gs.best_params_)\n",
    "y_hat = gs.best_estimator_.predict(X_test_tran)\n",
    "print(classification_report(y_test,y_hat))"
   ]
  },
  {
   "cell_type": "code",
   "execution_count": 128,
   "metadata": {},
   "outputs": [
    {
     "name": "stdout",
     "output_type": "stream",
     "text": [
      "Fitting 2 folds for each of 4 candidates, totalling 8 fits\n",
      "[CV] criterion=gini, max_depth=10 ....................................\n"
     ]
    },
    {
     "name": "stderr",
     "output_type": "stream",
     "text": [
      "[Parallel(n_jobs=1)]: Using backend SequentialBackend with 1 concurrent workers.\n"
     ]
    },
    {
     "name": "stdout",
     "output_type": "stream",
     "text": [
      "[CV] ........ criterion=gini, max_depth=10, score=0.530, total=   0.6s\n",
      "[CV] criterion=gini, max_depth=10 ....................................\n"
     ]
    },
    {
     "name": "stderr",
     "output_type": "stream",
     "text": [
      "[Parallel(n_jobs=1)]: Done   1 out of   1 | elapsed:    0.5s remaining:    0.0s\n"
     ]
    },
    {
     "name": "stdout",
     "output_type": "stream",
     "text": [
      "[CV] ........ criterion=gini, max_depth=10, score=0.519, total=   0.5s\n",
      "[CV] criterion=gini, max_depth=15 ....................................\n"
     ]
    },
    {
     "name": "stderr",
     "output_type": "stream",
     "text": [
      "[Parallel(n_jobs=1)]: Done   2 out of   2 | elapsed:    1.0s remaining:    0.0s\n"
     ]
    },
    {
     "name": "stdout",
     "output_type": "stream",
     "text": [
      "[CV] ........ criterion=gini, max_depth=15, score=0.607, total=   1.1s\n",
      "[CV] criterion=gini, max_depth=15 ....................................\n"
     ]
    },
    {
     "name": "stderr",
     "output_type": "stream",
     "text": [
      "[Parallel(n_jobs=1)]: Done   3 out of   3 | elapsed:    2.1s remaining:    0.0s\n"
     ]
    },
    {
     "name": "stdout",
     "output_type": "stream",
     "text": [
      "[CV] ........ criterion=gini, max_depth=15, score=0.596, total=   1.0s\n",
      "[CV] criterion=entropy, max_depth=10 .................................\n"
     ]
    },
    {
     "name": "stderr",
     "output_type": "stream",
     "text": [
      "[Parallel(n_jobs=1)]: Done   4 out of   4 | elapsed:    3.0s remaining:    0.0s\n"
     ]
    },
    {
     "name": "stdout",
     "output_type": "stream",
     "text": [
      "[CV] ..... criterion=entropy, max_depth=10, score=0.549, total=   0.8s\n",
      "[CV] criterion=entropy, max_depth=10 .................................\n"
     ]
    },
    {
     "name": "stderr",
     "output_type": "stream",
     "text": [
      "[Parallel(n_jobs=1)]: Done   5 out of   5 | elapsed:    3.8s remaining:    0.0s\n"
     ]
    },
    {
     "name": "stdout",
     "output_type": "stream",
     "text": [
      "[CV] ..... criterion=entropy, max_depth=10, score=0.557, total=   0.8s\n",
      "[CV] criterion=entropy, max_depth=15 .................................\n"
     ]
    },
    {
     "name": "stderr",
     "output_type": "stream",
     "text": [
      "[Parallel(n_jobs=1)]: Done   6 out of   6 | elapsed:    4.6s remaining:    0.0s\n"
     ]
    },
    {
     "name": "stdout",
     "output_type": "stream",
     "text": [
      "[CV] ..... criterion=entropy, max_depth=15, score=0.631, total=   1.4s\n",
      "[CV] criterion=entropy, max_depth=15 .................................\n"
     ]
    },
    {
     "name": "stderr",
     "output_type": "stream",
     "text": [
      "[Parallel(n_jobs=1)]: Done   7 out of   7 | elapsed:    5.9s remaining:    0.0s\n"
     ]
    },
    {
     "name": "stdout",
     "output_type": "stream",
     "text": [
      "[CV] ..... criterion=entropy, max_depth=15, score=0.615, total=   1.4s\n"
     ]
    },
    {
     "name": "stderr",
     "output_type": "stream",
     "text": [
      "[Parallel(n_jobs=1)]: Done   8 out of   8 | elapsed:    7.4s remaining:    0.0s\n",
      "[Parallel(n_jobs=1)]: Done   8 out of   8 | elapsed:    7.4s finished\n"
     ]
    },
    {
     "name": "stdout",
     "output_type": "stream",
     "text": [
      "{'criterion': 'entropy', 'max_depth': 15}\n",
      "              precision    recall  f1-score   support\n",
      "\n",
      "           0       0.55      0.53      0.54       754\n",
      "           1       0.93      0.66      0.77       755\n",
      "          10       0.72      0.52      0.60       816\n",
      "           2       0.85      0.57      0.68       739\n",
      "           3       0.95      0.62      0.75      1024\n",
      "           4       0.15      0.85      0.25       462\n",
      "           5       0.95      0.72      0.82       712\n",
      "           6       0.91      0.56      0.69       725\n",
      "           7       0.93      0.92      0.93       785\n",
      "           8       0.95      0.61      0.74       802\n",
      "           9       0.76      0.37      0.50       768\n",
      "\n",
      "    accuracy                           0.62      8342\n",
      "   macro avg       0.79      0.63      0.66      8342\n",
      "weighted avg       0.81      0.62      0.68      8342\n",
      "\n"
     ]
    }
   ],
   "source": [
    "# 决策树测词袋\n",
    "from sklearn.tree import DecisionTreeClassifier\n",
    "\n",
    "param = {'criterion':['gini','entropy'],\n",
    "        'max_depth':[10,15]\n",
    "        }\n",
    "gs = GridSearchCV(estimator=DecisionTreeClassifier(),param_grid=param,\n",
    "                 cv=2, n_jobs=1, verbose=10)\n",
    "gs.fit(X_train_bag,y_train)\n",
    "print(gs.best_params_)\n",
    "y_hat = gs.best_estimator_.predict(X_test_bag)\n",
    "print(classification_report(y_test,y_hat))"
   ]
  },
  {
   "cell_type": "code",
   "execution_count": null,
   "metadata": {},
   "outputs": [],
   "source": [
    "#MLP\n",
    "from sklearn.neural_network import MLPClassifier\n",
    "\n",
    "param = {'hidden_layer_sizes':[(8,),(4,)],\n",
    "        }\n",
    "gs = GridSearchCV(estimator=MLPClassifier(),param_grid=param,\n",
    "                 cv=2, n_jobs=-1, verbose=10)\n",
    "gs.fit(X_train_tran,y_train)\n",
    "print(gs.best_params_)\n",
    "y_hat = gs.best_estimator_.predict(X_test_tran)\n",
    "print(classification_report(y_test,y_hat))"
   ]
  },
  {
   "cell_type": "code",
   "execution_count": null,
   "metadata": {},
   "outputs": [],
   "source": [
    "# 朴素贝叶斯\n",
    "from sklearn.model_selection import GridSearchCV\n",
    "from sklearn.naive_bayes import GaussianNB,BernoulliNB,MultinomialNB\n",
    "from sklearn.naive_bayes import ComplementNB\n",
    "from sklearn.pipeline import Pipeline\n",
    "from sklearn.preprocessing import FunctionTransformer\n",
    "from sklearn.metrics import classification_report\n",
    "\n",
    "steps = [('dense',FunctionTransformer(func=lambda X: X.toarray(),accept_sparse=True)),\n",
    "       ('model',None)\n",
    "       ]\n",
    "pipe = Pipeline(steps=steps)\n",
    "param = {'model':[GaussianNB(),BernoulliNB(),MultinomialNB(),ComplementNB()]\n",
    "        }\n",
    "gs = GridSearchCV(estimator=pipe,param_grid=param,scoring=\"accuracy\",\n",
    "                 cv=2, n_jobs=2, verbose=10)\n",
    "gs.fit(X_train_tran,y_train)\n",
    "print(gs.best_params_)\n",
    "y_hat = gs.best_estimator_.predict(X_test_tran)\n",
    "print(classification_report(y_test,y_hat))"
   ]
  },
  {
   "cell_type": "code",
   "execution_count": null,
   "metadata": {},
   "outputs": [],
   "source": []
  },
  {
   "cell_type": "markdown",
   "metadata": {},
   "source": [
    "# 七、更换降维方法"
   ]
  },
  {
   "cell_type": "markdown",
   "metadata": {},
   "source": [
    "## 方法一：tf-idf+pca"
   ]
  },
  {
   "cell_type": "code",
   "execution_count": 31,
   "metadata": {},
   "outputs": [
    {
     "name": "stdout",
     "output_type": "stream",
     "text": [
      "(33366, 20000)\n"
     ]
    }
   ],
   "source": [
    "import scipy\n",
    "X_total_tran = scipy.sparse.vstack((X_train_tran,X_test_tran))\n",
    "print(X_total_tran.shape)"
   ]
  },
  {
   "cell_type": "code",
   "execution_count": 58,
   "metadata": {},
   "outputs": [
    {
     "name": "stdout",
     "output_type": "stream",
     "text": [
      "(33366, 250)\n"
     ]
    }
   ],
   "source": [
    "from sklearn.decomposition import TruncatedSVD\n",
    "clf = TruncatedSVD(250)\n",
    "X_total_tran_pca = clf.fit_transform(X_total_tran)\n",
    "print(X_total_tran_pca.shape)"
   ]
  },
  {
   "cell_type": "code",
   "execution_count": 59,
   "metadata": {},
   "outputs": [
    {
     "name": "stdout",
     "output_type": "stream",
     "text": [
      "(25024, 250)\n",
      "(8342, 250)\n"
     ]
    }
   ],
   "source": [
    "X_train_tran_pca = X_total_tran_pca[:X_train_tran.shape[0]]\n",
    "print(X_train_tran_pca.shape)\n",
    "X_test_tran_pca = X_total_tran_pca[X_train_tran.shape[0]:]\n",
    "print(X_test_tran_pca.shape)"
   ]
  },
  {
   "cell_type": "code",
   "execution_count": 60,
   "metadata": {},
   "outputs": [
    {
     "name": "stdout",
     "output_type": "stream",
     "text": [
      "Fitting 2 folds for each of 4 candidates, totalling 8 fits\n",
      "[CV 1/2; 1/4] START criterion=gini, max_depth=10................................\n",
      "[CV 1/2; 1/4] END .criterion=gini, max_depth=10;, score=0.758 total time=  11.4s\n",
      "[CV 2/2; 1/4] START criterion=gini, max_depth=10................................\n",
      "[CV 2/2; 1/4] END .criterion=gini, max_depth=10;, score=0.755 total time=  11.5s\n",
      "[CV 1/2; 2/4] START criterion=gini, max_depth=15................................\n",
      "[CV 1/2; 2/4] END .criterion=gini, max_depth=15;, score=0.758 total time=  13.8s\n",
      "[CV 2/2; 2/4] START criterion=gini, max_depth=15................................\n",
      "[CV 2/2; 2/4] END .criterion=gini, max_depth=15;, score=0.755 total time=  13.9s\n",
      "[CV 1/2; 3/4] START criterion=entropy, max_depth=10.............................\n",
      "[CV 1/2; 3/4] END criterion=entropy, max_depth=10;, score=0.763 total time=  35.7s\n",
      "[CV 2/2; 3/4] START criterion=entropy, max_depth=10.............................\n",
      "[CV 2/2; 3/4] END criterion=entropy, max_depth=10;, score=0.754 total time=  32.6s\n",
      "[CV 1/2; 4/4] START criterion=entropy, max_depth=15.............................\n",
      "[CV 1/2; 4/4] END criterion=entropy, max_depth=15;, score=0.742 total time=  46.1s\n",
      "[CV 2/2; 4/4] START criterion=entropy, max_depth=15.............................\n",
      "[CV 2/2; 4/4] END criterion=entropy, max_depth=15;, score=0.743 total time=  48.3s\n",
      "{'criterion': 'entropy', 'max_depth': 10}\n",
      "              precision    recall  f1-score   support\n",
      "\n",
      "           0       0.61      0.65      0.63       777\n",
      "           1       0.85      0.81      0.83       736\n",
      "          10       0.73      0.79      0.76       829\n",
      "           2       0.77      0.74      0.75       729\n",
      "           3       0.78      0.81      0.80      1043\n",
      "           4       0.68      0.69      0.68       476\n",
      "           5       0.88      0.86      0.87       680\n",
      "           6       0.87      0.91      0.89       733\n",
      "           7       0.93      0.89      0.91       827\n",
      "           8       0.89      0.80      0.84       763\n",
      "           9       0.66      0.63      0.65       749\n",
      "\n",
      "    accuracy                           0.78      8342\n",
      "   macro avg       0.78      0.78      0.78      8342\n",
      "weighted avg       0.79      0.78      0.79      8342\n",
      "\n"
     ]
    }
   ],
   "source": [
    "from sklearn.tree import DecisionTreeClassifier\n",
    "from sklearn.model_selection import GridSearchCV\n",
    "from sklearn.metrics import classification_report\n",
    "param = {'criterion':['gini','entropy'],\n",
    "        'max_depth':[10,15]\n",
    "        }\n",
    "gs_2 = GridSearchCV(estimator=DecisionTreeClassifier(),param_grid=param,\n",
    "                 cv=2, n_jobs=1, verbose=10)\n",
    "gs_2.fit(X_train_tran_pca,y_train)\n",
    "print(gs_2.best_params_)\n",
    "y_hat_pca = gs_2.best_estimator_.predict(X_test_tran_pca)\n",
    "print(classification_report(y_test,y_hat_pca))"
   ]
  },
  {
   "cell_type": "markdown",
   "metadata": {},
   "source": [
    "## 方法二：tf-idf+lda"
   ]
  },
  {
   "cell_type": "code",
   "execution_count": 41,
   "metadata": {},
   "outputs": [
    {
     "name": "stdout",
     "output_type": "stream",
     "text": [
      "[[0.00456275 0.00456275 0.00456275 ... 0.00456275 0.00456275 0.00456275]\n",
      " [0.00527417 0.00527417 0.00527417 ... 0.00527417 0.00527417 0.00527417]\n",
      " [0.00887388 0.00887388 0.00887388 ... 0.00887388 0.00887388 0.00887388]\n",
      " ...\n",
      " [0.0038296  0.0038296  0.0038296  ... 0.0038296  0.0038296  0.0038296 ]\n",
      " [0.00319138 0.00319138 0.00319138 ... 0.00319138 0.00319138 0.00319138]\n",
      " [0.00377468 0.00377468 0.00377468 ... 0.00377468 0.00377468 0.00377468]]\n"
     ]
    }
   ],
   "source": [
    "from sklearn.decomposition import FactorAnalysis,FastICA,LatentDirichletAllocation\n",
    "transformer = LatentDirichletAllocation(n_components=50, random_state=0)\n",
    "X_total_tran_fa =  transformer.fit_transform(X_total_tran)\n",
    "print(X_total_tran_fa)"
   ]
  },
  {
   "cell_type": "code",
   "execution_count": 42,
   "metadata": {},
   "outputs": [
    {
     "name": "stdout",
     "output_type": "stream",
     "text": [
      "(25024, 50)\n",
      "(8342, 50)\n"
     ]
    }
   ],
   "source": [
    "X_train_tran_lda = X_total_tran_fa[:X_train_tran.shape[0]]\n",
    "print(X_train_tran_lda.shape)\n",
    "X_test_tran_lda = X_total_tran_fa[X_train_tran.shape[0]:]\n",
    "print(X_test_tran_lda.shape)"
   ]
  },
  {
   "cell_type": "code",
   "execution_count": 43,
   "metadata": {},
   "outputs": [
    {
     "name": "stdout",
     "output_type": "stream",
     "text": [
      "Fitting 2 folds for each of 4 candidates, totalling 8 fits\n",
      "[CV 1/2; 1/4] START criterion=gini, max_depth=10................................\n",
      "[CV 1/2; 1/4] END .criterion=gini, max_depth=10;, score=0.657 total time=   1.5s\n",
      "[CV 2/2; 1/4] START criterion=gini, max_depth=10................................\n",
      "[CV 2/2; 1/4] END .criterion=gini, max_depth=10;, score=0.668 total time=   1.5s\n",
      "[CV 1/2; 2/4] START criterion=gini, max_depth=15................................\n",
      "[CV 1/2; 2/4] END .criterion=gini, max_depth=15;, score=0.703 total time=   1.9s\n",
      "[CV 2/2; 2/4] START criterion=gini, max_depth=15................................\n",
      "[CV 2/2; 2/4] END .criterion=gini, max_depth=15;, score=0.713 total time=   2.0s\n",
      "[CV 1/2; 3/4] START criterion=entropy, max_depth=10.............................\n",
      "[CV 1/2; 3/4] END criterion=entropy, max_depth=10;, score=0.663 total time=   5.0s\n",
      "[CV 2/2; 3/4] START criterion=entropy, max_depth=10.............................\n",
      "[CV 2/2; 3/4] END criterion=entropy, max_depth=10;, score=0.653 total time=   5.5s\n",
      "[CV 1/2; 4/4] START criterion=entropy, max_depth=15.............................\n",
      "[CV 1/2; 4/4] END criterion=entropy, max_depth=15;, score=0.708 total time=   6.3s\n",
      "[CV 2/2; 4/4] START criterion=entropy, max_depth=15.............................\n",
      "[CV 2/2; 4/4] END criterion=entropy, max_depth=15;, score=0.709 total time=   6.7s\n",
      "{'criterion': 'entropy', 'max_depth': 15}\n",
      "              precision    recall  f1-score   support\n",
      "\n",
      "           0       0.64      0.55      0.59       779\n",
      "           1       0.73      0.81      0.77       799\n",
      "          10       0.36      0.77      0.49       762\n",
      "           2       0.84      0.56      0.67       735\n",
      "           3       0.84      0.77      0.81      1098\n",
      "           4       0.83      0.60      0.70       483\n",
      "           5       0.84      0.82      0.83       702\n",
      "           6       0.90      0.83      0.86       731\n",
      "           7       0.92      0.89      0.91       769\n",
      "           8       0.87      0.84      0.86       766\n",
      "           9       0.64      0.40      0.49       718\n",
      "\n",
      "    accuracy                           0.72      8342\n",
      "   macro avg       0.76      0.71      0.72      8342\n",
      "weighted avg       0.76      0.72      0.73      8342\n",
      "\n"
     ]
    }
   ],
   "source": [
    "from sklearn.tree import DecisionTreeClassifier\n",
    "from sklearn.model_selection import GridSearchCV\n",
    "from sklearn.metrics import classification_report\n",
    "param = {'criterion':['gini','entropy'],\n",
    "        'max_depth':[10,15]\n",
    "        }\n",
    "gs_2 = GridSearchCV(estimator=DecisionTreeClassifier(),param_grid=param,\n",
    "                 cv=2, n_jobs=1, verbose=10)\n",
    "gs_2.fit(X_train_tran_lda,y_train)\n",
    "print(gs_2.best_params_)\n",
    "y_hat_lda = gs_2.best_estimator_.predict(X_test_tran_lda)\n",
    "print(classification_report(y_test,y_hat_lda))"
   ]
  },
  {
   "cell_type": "markdown",
   "metadata": {},
   "source": [
    "## 方法三： bag+pca"
   ]
  },
  {
   "cell_type": "code",
   "execution_count": 47,
   "metadata": {},
   "outputs": [
    {
     "name": "stdout",
     "output_type": "stream",
     "text": [
      "(33366, 20000)\n"
     ]
    }
   ],
   "source": [
    "import scipy\n",
    "X_total_bag = scipy.sparse.vstack((X_train_bag,X_test_bag))\n",
    "print(X_total_bag.shape)\n"
   ]
  },
  {
   "cell_type": "code",
   "execution_count": 63,
   "metadata": {},
   "outputs": [
    {
     "name": "stdout",
     "output_type": "stream",
     "text": [
      "(33366, 5)\n"
     ]
    }
   ],
   "source": [
    "from sklearn.decomposition import TruncatedSVD\n",
    "clf = TruncatedSVD(5)\n",
    "X_total_bag_pca = clf.fit_transform(X_total_bag)\n",
    "print(X_total_bag_pca.shape)"
   ]
  },
  {
   "cell_type": "code",
   "execution_count": 64,
   "metadata": {},
   "outputs": [
    {
     "name": "stdout",
     "output_type": "stream",
     "text": [
      "(25024, 5)\n",
      "(8342, 5)\n"
     ]
    }
   ],
   "source": [
    "X_train_bag_pca = X_total_bag_pca[:X_train_bag.shape[0]]\n",
    "print(X_train_bag_pca.shape)\n",
    "X_test_bag_pca = X_total_bag_pca[X_train_bag.shape[0]:]\n",
    "print(X_test_bag_pca.shape)"
   ]
  },
  {
   "cell_type": "code",
   "execution_count": 65,
   "metadata": {},
   "outputs": [
    {
     "name": "stdout",
     "output_type": "stream",
     "text": [
      "Fitting 2 folds for each of 4 candidates, totalling 8 fits\n",
      "[CV 1/2; 1/4] START criterion=gini, max_depth=10................................\n",
      "[CV 1/2; 1/4] END .criterion=gini, max_depth=10;, score=0.509 total time=   0.1s\n",
      "[CV 2/2; 1/4] START criterion=gini, max_depth=10................................\n",
      "[CV 2/2; 1/4] END .criterion=gini, max_depth=10;, score=0.517 total time=   0.1s\n",
      "[CV 1/2; 2/4] START criterion=gini, max_depth=15................................\n",
      "[CV 1/2; 2/4] END .criterion=gini, max_depth=15;, score=0.491 total time=   0.2s\n",
      "[CV 2/2; 2/4] START criterion=gini, max_depth=15................................\n",
      "[CV 2/2; 2/4] END .criterion=gini, max_depth=15;, score=0.488 total time=   0.2s\n",
      "[CV 1/2; 3/4] START criterion=entropy, max_depth=10.............................\n",
      "[CV 1/2; 3/4] END criterion=entropy, max_depth=10;, score=0.510 total time=   0.7s\n",
      "[CV 2/2; 3/4] START criterion=entropy, max_depth=10.............................\n",
      "[CV 2/2; 3/4] END criterion=entropy, max_depth=10;, score=0.507 total time=   0.6s\n",
      "[CV 1/2; 4/4] START criterion=entropy, max_depth=15.............................\n",
      "[CV 1/2; 4/4] END criterion=entropy, max_depth=15;, score=0.476 total time=   0.6s\n",
      "[CV 2/2; 4/4] START criterion=entropy, max_depth=15.............................\n",
      "[CV 2/2; 4/4] END criterion=entropy, max_depth=15;, score=0.466 total time=   0.7s\n",
      "{'criterion': 'gini', 'max_depth': 10}\n",
      "              precision    recall  f1-score   support\n",
      "\n",
      "           0       0.46      0.53      0.49       779\n",
      "           1       0.78      0.64      0.70       799\n",
      "          10       0.38      0.54      0.45       762\n",
      "           2       0.58      0.54      0.56       735\n",
      "           3       0.60      0.59      0.60      1098\n",
      "           4       0.46      0.26      0.33       483\n",
      "           5       0.39      0.44      0.41       702\n",
      "           6       0.40      0.56      0.47       731\n",
      "           7       0.90      0.88      0.89       769\n",
      "           8       0.45      0.45      0.45       766\n",
      "           9       0.35      0.17      0.23       718\n",
      "\n",
      "    accuracy                           0.52      8342\n",
      "   macro avg       0.52      0.51      0.51      8342\n",
      "weighted avg       0.53      0.52      0.52      8342\n",
      "\n"
     ]
    }
   ],
   "source": [
    "from sklearn.tree import DecisionTreeClassifier\n",
    "from sklearn.model_selection import GridSearchCV\n",
    "from sklearn.metrics import classification_report\n",
    "param = {'criterion':['gini','entropy'],\n",
    "        'max_depth':[10,15]\n",
    "        }\n",
    "gs_2 = GridSearchCV(estimator=DecisionTreeClassifier(),param_grid=param,\n",
    "                 cv=2, n_jobs=1, verbose=10)\n",
    "gs_2.fit(X_train_bag_pca,y_train)\n",
    "print(gs_2.best_params_)\n",
    "y_hat_pca = gs_2.best_estimator_.predict(X_test_bag_pca)\n",
    "print(classification_report(y_test,y_hat_pca))"
   ]
  },
  {
   "cell_type": "markdown",
   "metadata": {},
   "source": [
    "## 方法四：bag+lda"
   ]
  },
  {
   "cell_type": "code",
   "execution_count": 76,
   "metadata": {},
   "outputs": [
    {
     "name": "stdout",
     "output_type": "stream",
     "text": [
      "[[8.09716599e-05 8.09716599e-05 8.09716599e-05 ... 8.09716599e-05\n",
      "  8.09716599e-05 8.09716599e-05]\n",
      " [2.59740260e-04 2.59740260e-04 2.59740260e-04 ... 2.59740260e-04\n",
      "  2.59740260e-04 2.59740260e-04]\n",
      " [2.85714286e-03 2.85714286e-03 2.85714286e-03 ... 2.85714286e-03\n",
      "  7.17142857e-01 2.85714286e-03]\n",
      " ...\n",
      " [1.56250000e-04 1.56250000e-04 1.56250000e-04 ... 1.56250000e-04\n",
      "  1.56250000e-04 1.56250000e-04]\n",
      " [1.73913043e-04 1.73913043e-04 6.71852142e-01 ... 1.73913043e-04\n",
      "  1.73913043e-04 1.73913043e-04]\n",
      " [1.00502513e-04 1.00502513e-04 1.00502513e-04 ... 1.00502513e-04\n",
      "  1.00502513e-04 1.00502513e-04]]\n"
     ]
    }
   ],
   "source": [
    "from sklearn.decomposition import FactorAnalysis,FastICA,LatentDirichletAllocation\n",
    "transformer = LatentDirichletAllocation(n_components=50, random_state=0)\n",
    "X_total_bag_fa =  transformer.fit_transform(X_total_bag)\n",
    "print(X_total_bag_fa)"
   ]
  },
  {
   "cell_type": "code",
   "execution_count": 77,
   "metadata": {},
   "outputs": [
    {
     "name": "stdout",
     "output_type": "stream",
     "text": [
      "(25024, 50)\n",
      "(8342, 50)\n"
     ]
    }
   ],
   "source": [
    "X_train_bag_lda = X_total_bag_fa[:X_train_tran.shape[0]]\n",
    "print(X_train_bag_lda.shape)\n",
    "X_test_bag_lda = X_total_bag_fa[X_train_bag.shape[0]:]\n",
    "print(X_test_bag_lda.shape)"
   ]
  },
  {
   "cell_type": "code",
   "execution_count": 78,
   "metadata": {},
   "outputs": [
    {
     "name": "stdout",
     "output_type": "stream",
     "text": [
      "Fitting 2 folds for each of 4 candidates, totalling 8 fits\n",
      "[CV 1/2; 1/4] START criterion=gini, max_depth=10................................\n",
      "[CV 1/2; 1/4] END .criterion=gini, max_depth=10;, score=0.590 total time=   0.8s\n",
      "[CV 2/2; 1/4] START criterion=gini, max_depth=10................................\n",
      "[CV 2/2; 1/4] END .criterion=gini, max_depth=10;, score=0.572 total time=   0.7s\n",
      "[CV 1/2; 2/4] START criterion=gini, max_depth=15................................\n",
      "[CV 1/2; 2/4] END .criterion=gini, max_depth=15;, score=0.689 total time=   1.4s\n",
      "[CV 2/2; 2/4] START criterion=gini, max_depth=15................................\n",
      "[CV 2/2; 2/4] END .criterion=gini, max_depth=15;, score=0.691 total time=   1.3s\n",
      "[CV 1/2; 3/4] START criterion=entropy, max_depth=10.............................\n",
      "[CV 1/2; 3/4] END criterion=entropy, max_depth=10;, score=0.587 total time=   2.4s\n",
      "[CV 2/2; 3/4] START criterion=entropy, max_depth=10.............................\n",
      "[CV 2/2; 3/4] END criterion=entropy, max_depth=10;, score=0.591 total time=   1.9s\n",
      "[CV 1/2; 4/4] START criterion=entropy, max_depth=15.............................\n",
      "[CV 1/2; 4/4] END criterion=entropy, max_depth=15;, score=0.684 total time=   3.1s\n",
      "[CV 2/2; 4/4] START criterion=entropy, max_depth=15.............................\n",
      "[CV 2/2; 4/4] END criterion=entropy, max_depth=15;, score=0.687 total time=   3.1s\n",
      "{'criterion': 'gini', 'max_depth': 15}\n",
      "              precision    recall  f1-score   support\n",
      "\n",
      "           0       0.74      0.50      0.60       779\n",
      "           1       0.89      0.66      0.76       799\n",
      "          10       0.30      0.90      0.45       762\n",
      "           2       0.76      0.45      0.57       735\n",
      "           3       0.83      0.70      0.76      1098\n",
      "           4       0.75      0.45      0.56       483\n",
      "           5       0.92      0.82      0.87       702\n",
      "           6       0.93      0.70      0.80       731\n",
      "           7       0.93      0.90      0.91       769\n",
      "           8       0.85      0.84      0.85       766\n",
      "           9       0.70      0.63      0.66       718\n",
      "\n",
      "    accuracy                           0.69      8342\n",
      "   macro avg       0.78      0.69      0.71      8342\n",
      "weighted avg       0.78      0.69      0.71      8342\n",
      "\n"
     ]
    }
   ],
   "source": [
    "from sklearn.tree import DecisionTreeClassifier\n",
    "from sklearn.model_selection import GridSearchCV\n",
    "from sklearn.metrics import classification_report\n",
    "param = {'criterion':['gini','entropy'],\n",
    "        'max_depth':[10,15]\n",
    "        }\n",
    "gs_2 = GridSearchCV(estimator=DecisionTreeClassifier(),param_grid=param,\n",
    "                 cv=2, n_jobs=1, verbose=10)\n",
    "gs_2.fit(X_train_bag_lda,y_train)\n",
    "print(gs_2.best_params_)\n",
    "y_hat_lda = gs_2.best_estimator_.predict(X_test_bag_lda)\n",
    "print(classification_report(y_test,y_hat_lda))"
   ]
  },
  {
   "cell_type": "markdown",
   "metadata": {},
   "source": [
    "# 八、数据不均衡情况处理"
   ]
  },
  {
   "cell_type": "markdown",
   "metadata": {},
   "source": [
    "## 1. TF-IDF SMOTE"
   ]
  },
  {
   "cell_type": "code",
   "execution_count": null,
   "metadata": {},
   "outputs": [],
   "source": [
    "# https://blog.csdn.net/weixin_46649052/article/details/119714742"
   ]
  },
  {
   "cell_type": "code",
   "execution_count": 28,
   "metadata": {},
   "outputs": [
    {
     "name": "stdout",
     "output_type": "stream",
     "text": [
      "  (0, 7)\t0.018686494\n",
      "  (0, 1313)\t0.023035794\n",
      "  (0, 1400)\t0.03001999\n",
      "  (0, 1566)\t0.02149426\n",
      "  (0, 1787)\t0.20795834\n",
      "  (0, 1788)\t0.11966809\n",
      "  (0, 1861)\t0.018421672\n",
      "  (0, 1869)\t0.019842729\n",
      "  (0, 2105)\t0.016559124\n",
      "  (0, 2566)\t0.022238418\n",
      "  (0, 2702)\t0.02236214\n",
      "  (0, 2704)\t0.03773169\n",
      "  (0, 2903)\t0.01773934\n",
      "  (0, 3435)\t0.029256495\n",
      "  (0, 3484)\t0.07029901\n",
      "  (0, 3533)\t0.10343967\n",
      "  (0, 3903)\t0.024997361\n",
      "  (0, 3904)\t0.03490964\n",
      "  (0, 4054)\t0.025451932\n",
      "  (0, 4596)\t0.017975647\n",
      "  (0, 4622)\t0.017895676\n",
      "  (0, 4635)\t0.05480867\n",
      "  (0, 4784)\t0.05701612\n",
      "  (0, 4874)\t0.01729249\n",
      "  (0, 5133)\t0.030223338\n",
      "  :\t:\n",
      "  (34847, 13963)\t0.0021505004\n",
      "  (34847, 14097)\t0.04131882\n",
      "  (34847, 14154)\t0.006047695\n",
      "  (34847, 14515)\t0.040787596\n",
      "  (34847, 14824)\t0.0030174768\n",
      "  (34847, 14939)\t0.048634224\n",
      "  (34847, 15175)\t0.005350262\n",
      "  (34847, 15194)\t0.007052911\n",
      "  (34847, 15677)\t0.0029821964\n",
      "  (34847, 15715)\t0.0038860494\n",
      "  (34847, 15727)\t0.002524859\n",
      "  (34847, 15777)\t0.043492083\n",
      "  (34847, 15788)\t0.0019277475\n",
      "  (34847, 16304)\t0.0030891246\n",
      "  (34847, 16710)\t0.0082862945\n",
      "  (34847, 16738)\t0.053721752\n",
      "  (34847, 16930)\t0.0053732223\n",
      "  (34847, 17026)\t0.0033080063\n",
      "  (34847, 17079)\t0.0016802071\n",
      "  (34847, 17402)\t0.10502355\n",
      "  (34847, 17404)\t0.081355266\n",
      "  (34847, 18491)\t0.032928526\n",
      "  (34847, 18904)\t0.042697646\n",
      "  (34847, 19451)\t0.11920513\n",
      "  (34847, 19496)\t0.050626162\n"
     ]
    }
   ],
   "source": [
    "from imblearn.over_sampling import SMOTE, ADASYN\n",
    "X_train_tran_resample, Y_train_resample = SMOTE().fit_resample(X_train_tran, y_train)\n",
    "print(X_train_tran_resample)"
   ]
  },
  {
   "cell_type": "code",
   "execution_count": 30,
   "metadata": {},
   "outputs": [
    {
     "name": "stdout",
     "output_type": "stream",
     "text": [
      "Fitting 2 folds for each of 4 candidates, totalling 8 fits\n",
      "[CV 1/2; 1/4] START criterion=gini, max_depth=10................................\n",
      "[CV 1/2; 1/4] END .criterion=gini, max_depth=10;, score=0.517 total time=   6.8s\n",
      "[CV 2/2; 1/4] START criterion=gini, max_depth=10................................\n",
      "[CV 2/2; 1/4] END .criterion=gini, max_depth=10;, score=0.552 total time=   5.3s\n",
      "[CV 1/2; 2/4] START criterion=gini, max_depth=15................................\n",
      "[CV 1/2; 2/4] END .criterion=gini, max_depth=15;, score=0.590 total time=  10.3s\n",
      "[CV 2/2; 2/4] START criterion=gini, max_depth=15................................\n",
      "[CV 2/2; 2/4] END .criterion=gini, max_depth=15;, score=0.621 total time=   8.2s\n",
      "[CV 1/2; 3/4] START criterion=entropy, max_depth=10.............................\n",
      "[CV 1/2; 3/4] END criterion=entropy, max_depth=10;, score=0.516 total time=  20.7s\n",
      "[CV 2/2; 3/4] START criterion=entropy, max_depth=10.............................\n",
      "[CV 2/2; 3/4] END criterion=entropy, max_depth=10;, score=0.545 total time=  16.3s\n",
      "[CV 1/2; 4/4] START criterion=entropy, max_depth=15.............................\n",
      "[CV 1/2; 4/4] END criterion=entropy, max_depth=15;, score=0.599 total time=  26.8s\n",
      "[CV 2/2; 4/4] START criterion=entropy, max_depth=15.............................\n",
      "[CV 2/2; 4/4] END criterion=entropy, max_depth=15;, score=0.618 total time=  22.1s\n",
      "{'criterion': 'entropy', 'max_depth': 15}\n",
      "              precision    recall  f1-score   support\n",
      "\n",
      "           0       0.87      0.31      0.46       797\n",
      "           1       0.89      0.75      0.81       753\n",
      "          10       0.71      0.55      0.62       754\n",
      "           2       0.84      0.58      0.68       736\n",
      "           3       0.97      0.46      0.62      1099\n",
      "           4       0.13      0.90      0.23       490\n",
      "           5       0.94      0.80      0.86       734\n",
      "           6       0.92      0.53      0.67       721\n",
      "           7       0.94      0.81      0.87       778\n",
      "           8       0.95      0.60      0.73       779\n",
      "           9       0.85      0.27      0.40       701\n",
      "\n",
      "    accuracy                           0.58      8342\n",
      "   macro avg       0.82      0.60      0.63      8342\n",
      "weighted avg       0.85      0.58      0.65      8342\n",
      "\n"
     ]
    }
   ],
   "source": [
    "from sklearn.tree import DecisionTreeClassifier\n",
    "from sklearn.model_selection import GridSearchCV\n",
    "from sklearn.metrics import classification_report\n",
    "param = {'criterion':['gini','entropy'],\n",
    "        'max_depth':[10,15]\n",
    "        }\n",
    "gs_2 = GridSearchCV(estimator=DecisionTreeClassifier(),param_grid=param,\n",
    "                 cv=2, n_jobs=1, verbose=10)\n",
    "gs_2.fit(X_train_tran_resample,Y_train_resample)\n",
    "print(gs_2.best_params_)\n",
    "y_hat_lda = gs_2.best_estimator_.predict(X_test_tran)\n",
    "print(classification_report(y_test,y_hat_lda))"
   ]
  },
  {
   "cell_type": "code",
   "execution_count": null,
   "metadata": {},
   "outputs": [],
   "source": []
  },
  {
   "cell_type": "markdown",
   "metadata": {},
   "source": [
    "### 2. BoW SMOTE"
   ]
  },
  {
   "cell_type": "code",
   "execution_count": 31,
   "metadata": {},
   "outputs": [
    {
     "name": "stdout",
     "output_type": "stream",
     "text": [
      "  (0, 18)\t1.0\n",
      "  (0, 1193)\t1.0\n",
      "  (0, 1241)\t1.0\n",
      "  (0, 1420)\t1.0\n",
      "  (0, 1664)\t6.0\n",
      "  (0, 1753)\t1.0\n",
      "  (0, 1755)\t1.0\n",
      "  (0, 1880)\t1.0\n",
      "  (0, 2012)\t1.0\n",
      "  (0, 2458)\t1.0\n",
      "  (0, 2605)\t1.0\n",
      "  (0, 2831)\t1.0\n",
      "  (0, 3374)\t1.0\n",
      "  (0, 3439)\t3.0\n",
      "  (0, 3472)\t3.0\n",
      "  (0, 3894)\t1.0\n",
      "  (0, 4047)\t1.0\n",
      "  (0, 4586)\t1.0\n",
      "  (0, 4620)\t1.0\n",
      "  (0, 4632)\t3.0\n",
      "  (0, 4771)\t4.0\n",
      "  (0, 4802)\t1.0\n",
      "  (0, 5063)\t2.0\n",
      "  (0, 5068)\t1.0\n",
      "  (0, 5752)\t2.0\n",
      "  :\t:\n",
      "  (34847, 13778)\t0.6813124\n",
      "  (34847, 13799)\t0.3186876\n",
      "  (34847, 14149)\t0.3186876\n",
      "  (34847, 14340)\t0.3186876\n",
      "  (34847, 14378)\t0.3186876\n",
      "  (34847, 14390)\t0.6813124\n",
      "  (34847, 15328)\t0.3186876\n",
      "  (34847, 15341)\t2.7252495\n",
      "  (34847, 15355)\t0.6813124\n",
      "  (34847, 15389)\t0.6813124\n",
      "  (34847, 15997)\t0.3186876\n",
      "  (34847, 16193)\t0.6813124\n",
      "  (34847, 16715)\t0.3186876\n",
      "  (34847, 16756)\t1.0\n",
      "  (34847, 16953)\t0.6813124\n",
      "  (34847, 17161)\t0.6813124\n",
      "  (34847, 17397)\t0.6813124\n",
      "  (34847, 17917)\t1.3626248\n",
      "  (34847, 18422)\t0.6813124\n",
      "  (34847, 18451)\t0.6813124\n",
      "  (34847, 18482)\t0.6813124\n",
      "  (34847, 18978)\t0.3186876\n",
      "  (34847, 19183)\t0.6813124\n",
      "  (34847, 19363)\t0.3186876\n",
      "  (34847, 19666)\t0.6813124\n"
     ]
    }
   ],
   "source": [
    "from imblearn.over_sampling import SMOTE, ADASYN\n",
    "X_train_bag_resample, Y_train_resample = SMOTE().fit_resample(X_train_bag, y_train)\n",
    "print(X_train_bag_resample)"
   ]
  },
  {
   "cell_type": "code",
   "execution_count": 32,
   "metadata": {},
   "outputs": [
    {
     "name": "stdout",
     "output_type": "stream",
     "text": [
      "Fitting 2 folds for each of 4 candidates, totalling 8 fits\n",
      "[CV 1/2; 1/4] START criterion=gini, max_depth=10................................\n",
      "[CV 1/2; 1/4] END .criterion=gini, max_depth=10;, score=0.533 total time=   4.9s\n",
      "[CV 2/2; 1/4] START criterion=gini, max_depth=10................................\n",
      "[CV 2/2; 1/4] END .criterion=gini, max_depth=10;, score=0.495 total time=   2.4s\n",
      "[CV 1/2; 2/4] START criterion=gini, max_depth=15................................\n",
      "[CV 1/2; 2/4] END .criterion=gini, max_depth=15;, score=0.604 total time=   7.7s\n",
      "[CV 2/2; 2/4] START criterion=gini, max_depth=15................................\n",
      "[CV 2/2; 2/4] END .criterion=gini, max_depth=15;, score=0.576 total time=   4.7s\n",
      "[CV 1/2; 3/4] START criterion=entropy, max_depth=10.............................\n",
      "[CV 1/2; 3/4] END criterion=entropy, max_depth=10;, score=0.556 total time=  12.6s\n",
      "[CV 2/2; 3/4] START criterion=entropy, max_depth=10.............................\n",
      "[CV 2/2; 3/4] END criterion=entropy, max_depth=10;, score=0.556 total time=   3.9s\n",
      "[CV 1/2; 4/4] START criterion=entropy, max_depth=15.............................\n",
      "[CV 1/2; 4/4] END criterion=entropy, max_depth=15;, score=0.627 total time=  17.2s\n",
      "[CV 2/2; 4/4] START criterion=entropy, max_depth=15.............................\n",
      "[CV 2/2; 4/4] END criterion=entropy, max_depth=15;, score=0.615 total time=   7.8s\n",
      "{'criterion': 'entropy', 'max_depth': 15}\n"
     ]
    },
    {
     "name": "stderr",
     "output_type": "stream",
     "text": [
      "c:\\Users\\huang\\AppData\\Local\\Programs\\Python\\Python39\\lib\\site-packages\\sklearn\\metrics\\_classification.py:1327: UndefinedMetricWarning: Precision and F-score are ill-defined and being set to 0.0 in labels with no predicted samples. Use `zero_division` parameter to control this behavior.\n",
      "  _warn_prf(average, modifier, msg_start, len(result))\n",
      "c:\\Users\\huang\\AppData\\Local\\Programs\\Python\\Python39\\lib\\site-packages\\sklearn\\metrics\\_classification.py:1327: UndefinedMetricWarning: Precision and F-score are ill-defined and being set to 0.0 in labels with no predicted samples. Use `zero_division` parameter to control this behavior.\n",
      "  _warn_prf(average, modifier, msg_start, len(result))\n"
     ]
    },
    {
     "name": "stdout",
     "output_type": "stream",
     "text": [
      "              precision    recall  f1-score   support\n",
      "\n",
      "           0       0.04      0.00      0.00       797\n",
      "           1       0.00      0.00      0.00       753\n",
      "          10       0.00      0.00      0.00       754\n",
      "           2       0.20      0.01      0.01       736\n",
      "           3       0.00      0.00      0.00      1099\n",
      "           4       0.06      0.99      0.11       490\n",
      "           5       1.00      0.01      0.02       734\n",
      "           6       0.02      0.00      0.00       721\n",
      "           7       0.00      0.00      0.00       778\n",
      "           8       0.00      0.00      0.00       779\n",
      "           9       0.00      0.00      0.00       701\n",
      "\n",
      "    accuracy                           0.06      8342\n",
      "   macro avg       0.12      0.09      0.01      8342\n",
      "weighted avg       0.11      0.06      0.01      8342\n",
      "\n"
     ]
    },
    {
     "name": "stderr",
     "output_type": "stream",
     "text": [
      "c:\\Users\\huang\\AppData\\Local\\Programs\\Python\\Python39\\lib\\site-packages\\sklearn\\metrics\\_classification.py:1327: UndefinedMetricWarning: Precision and F-score are ill-defined and being set to 0.0 in labels with no predicted samples. Use `zero_division` parameter to control this behavior.\n",
      "  _warn_prf(average, modifier, msg_start, len(result))\n"
     ]
    }
   ],
   "source": [
    "from sklearn.tree import DecisionTreeClassifier\n",
    "from sklearn.model_selection import GridSearchCV\n",
    "from sklearn.metrics import classification_report\n",
    "param = {'criterion':['gini','entropy'],\n",
    "        'max_depth':[10,15]\n",
    "        }\n",
    "gs_2 = GridSearchCV(estimator=DecisionTreeClassifier(),param_grid=param,\n",
    "                 cv=2, n_jobs=1, verbose=10)\n",
    "gs_2.fit(X_train_bag_resample,Y_train_resample)\n",
    "print(gs_2.best_params_)\n"
   ]
  },
  {
   "cell_type": "code",
   "execution_count": 33,
   "metadata": {},
   "outputs": [
    {
     "name": "stdout",
     "output_type": "stream",
     "text": [
      "              precision    recall  f1-score   support\n",
      "\n",
      "           0       0.62      0.54      0.58       797\n",
      "           1       0.93      0.67      0.78       753\n",
      "          10       0.71      0.55      0.62       754\n",
      "           2       0.85      0.60      0.70       736\n",
      "           3       0.94      0.53      0.68      1099\n",
      "           4       0.17      0.88      0.28       490\n",
      "           5       0.88      0.82      0.85       734\n",
      "           6       0.89      0.57      0.70       721\n",
      "           7       0.93      0.80      0.86       778\n",
      "           8       0.95      0.59      0.73       779\n",
      "           9       0.69      0.47      0.56       701\n",
      "\n",
      "    accuracy                           0.63      8342\n",
      "   macro avg       0.78      0.64      0.67      8342\n",
      "weighted avg       0.80      0.63      0.68      8342\n",
      "\n"
     ]
    }
   ],
   "source": [
    "y_hat_lda = gs_2.best_estimator_.predict(X_test_bag)\n",
    "print(classification_report(y_test,y_hat_lda))"
   ]
  },
  {
   "cell_type": "markdown",
   "metadata": {},
   "source": [
    "### 3. TF-IDF ADASYN"
   ]
  },
  {
   "cell_type": "code",
   "execution_count": 34,
   "metadata": {},
   "outputs": [
    {
     "name": "stdout",
     "output_type": "stream",
     "text": [
      "  (0, 7)\t0.018686494\n",
      "  (0, 1313)\t0.023035794\n",
      "  (0, 1400)\t0.03001999\n",
      "  (0, 1566)\t0.02149426\n",
      "  (0, 1787)\t0.20795834\n",
      "  (0, 1788)\t0.11966809\n",
      "  (0, 1861)\t0.018421672\n",
      "  (0, 1869)\t0.019842729\n",
      "  (0, 2105)\t0.016559124\n",
      "  (0, 2566)\t0.022238418\n",
      "  (0, 2702)\t0.02236214\n",
      "  (0, 2704)\t0.03773169\n",
      "  (0, 2903)\t0.01773934\n",
      "  (0, 3435)\t0.029256495\n",
      "  (0, 3484)\t0.07029901\n",
      "  (0, 3533)\t0.10343967\n",
      "  (0, 3903)\t0.024997361\n",
      "  (0, 3904)\t0.03490964\n",
      "  (0, 4054)\t0.025451932\n",
      "  (0, 4596)\t0.017975647\n",
      "  (0, 4622)\t0.017895676\n",
      "  (0, 4635)\t0.05480867\n",
      "  (0, 4784)\t0.05701612\n",
      "  (0, 4874)\t0.01729249\n",
      "  (0, 5133)\t0.030223338\n",
      "  :\t:\n",
      "  (35225, 13400)\t0.040145412\n",
      "  (35225, 13987)\t0.05493756\n",
      "  (35225, 13992)\t0.046277095\n",
      "  (35225, 14006)\t0.05529047\n",
      "  (35225, 14031)\t0.009737529\n",
      "  (35225, 14353)\t0.019550994\n",
      "  (35225, 15139)\t0.0076508154\n",
      "  (35225, 15204)\t0.030952273\n",
      "  (35225, 15515)\t0.009457657\n",
      "  (35225, 15720)\t0.027998937\n",
      "  (35225, 16095)\t0.013130177\n",
      "  (35225, 16096)\t0.012410823\n",
      "  (35225, 16102)\t0.012781923\n",
      "  (35225, 16159)\t0.011311602\n",
      "  (35225, 16599)\t0.038031925\n",
      "  (35225, 17145)\t0.04933\n",
      "  (35225, 17366)\t0.008090655\n",
      "  (35225, 17438)\t0.010316517\n",
      "  (35225, 18207)\t0.009610764\n",
      "  (35225, 18237)\t0.0074072126\n",
      "  (35225, 18881)\t0.043612756\n",
      "  (35225, 19074)\t0.008519956\n",
      "  (35225, 19247)\t0.025715113\n",
      "  (35225, 19390)\t0.0072690044\n",
      "  (35225, 19398)\t0.014596635\n"
     ]
    }
   ],
   "source": [
    "from imblearn.over_sampling import SMOTE, ADASYN\n",
    "X_train_tran_resample, Y_train_resample = ADASYN().fit_resample(X_train_tran, y_train)\n",
    "print(X_train_tran_resample)"
   ]
  },
  {
   "cell_type": "code",
   "execution_count": 35,
   "metadata": {},
   "outputs": [
    {
     "name": "stdout",
     "output_type": "stream",
     "text": [
      "Fitting 2 folds for each of 4 candidates, totalling 8 fits\n",
      "[CV 1/2; 1/4] START criterion=gini, max_depth=10................................\n",
      "[CV 1/2; 1/4] END .criterion=gini, max_depth=10;, score=0.518 total time=   8.4s\n",
      "[CV 2/2; 1/4] START criterion=gini, max_depth=10................................\n",
      "[CV 2/2; 1/4] END .criterion=gini, max_depth=10;, score=0.513 total time=   5.8s\n",
      "[CV 1/2; 2/4] START criterion=gini, max_depth=15................................\n",
      "[CV 1/2; 2/4] END .criterion=gini, max_depth=15;, score=0.599 total time=  11.0s\n",
      "[CV 2/2; 2/4] START criterion=gini, max_depth=15................................\n",
      "[CV 2/2; 2/4] END .criterion=gini, max_depth=15;, score=0.585 total time=   8.7s\n",
      "[CV 1/2; 3/4] START criterion=entropy, max_depth=10.............................\n",
      "[CV 1/2; 3/4] END criterion=entropy, max_depth=10;, score=0.558 total time=  21.4s\n",
      "[CV 2/2; 3/4] START criterion=entropy, max_depth=10.............................\n",
      "[CV 2/2; 3/4] END criterion=entropy, max_depth=10;, score=0.549 total time=  17.3s\n",
      "[CV 1/2; 4/4] START criterion=entropy, max_depth=15.............................\n",
      "[CV 1/2; 4/4] END criterion=entropy, max_depth=15;, score=0.625 total time=  27.5s\n",
      "[CV 2/2; 4/4] START criterion=entropy, max_depth=15.............................\n",
      "[CV 2/2; 4/4] END criterion=entropy, max_depth=15;, score=0.619 total time=  21.7s\n",
      "{'criterion': 'entropy', 'max_depth': 15}\n",
      "              precision    recall  f1-score   support\n",
      "\n",
      "           0       0.60      0.55      0.57       797\n",
      "           1       0.93      0.72      0.81       753\n",
      "          10       0.71      0.55      0.62       754\n",
      "           2       0.79      0.60      0.68       736\n",
      "           3       0.97      0.52      0.67      1099\n",
      "           4       0.16      0.88      0.27       490\n",
      "           5       0.88      0.82      0.85       734\n",
      "           6       0.93      0.55      0.69       721\n",
      "           7       0.95      0.80      0.87       778\n",
      "           8       0.95      0.46      0.62       779\n",
      "           9       0.70      0.47      0.56       701\n",
      "\n",
      "    accuracy                           0.62      8342\n",
      "   macro avg       0.78      0.63      0.66      8342\n",
      "weighted avg       0.80      0.62      0.67      8342\n",
      "\n"
     ]
    }
   ],
   "source": [
    "from sklearn.tree import DecisionTreeClassifier\n",
    "from sklearn.model_selection import GridSearchCV\n",
    "from sklearn.metrics import classification_report\n",
    "param = {'criterion':['gini','entropy'],\n",
    "        'max_depth':[10,15]\n",
    "        }\n",
    "gs_2 = GridSearchCV(estimator=DecisionTreeClassifier(),param_grid=param,\n",
    "                 cv=2, n_jobs=1, verbose=10)\n",
    "gs_2.fit(X_train_tran_resample,Y_train_resample)\n",
    "print(gs_2.best_params_)\n",
    "y_hat_lda = gs_2.best_estimator_.predict(X_test_tran)\n",
    "print(classification_report(y_test,y_hat_lda))"
   ]
  },
  {
   "cell_type": "markdown",
   "metadata": {},
   "source": [
    "### 4. BoW ADASYN"
   ]
  },
  {
   "cell_type": "code",
   "execution_count": 36,
   "metadata": {},
   "outputs": [
    {
     "name": "stdout",
     "output_type": "stream",
     "text": [
      "  (0, 18)\t1.0\n",
      "  (0, 1193)\t1.0\n",
      "  (0, 1241)\t1.0\n",
      "  (0, 1420)\t1.0\n",
      "  (0, 1664)\t6.0\n",
      "  (0, 1753)\t1.0\n",
      "  (0, 1755)\t1.0\n",
      "  (0, 1880)\t1.0\n",
      "  (0, 2012)\t1.0\n",
      "  (0, 2458)\t1.0\n",
      "  (0, 2605)\t1.0\n",
      "  (0, 2831)\t1.0\n",
      "  (0, 3374)\t1.0\n",
      "  (0, 3439)\t3.0\n",
      "  (0, 3472)\t3.0\n",
      "  (0, 3894)\t1.0\n",
      "  (0, 4047)\t1.0\n",
      "  (0, 4586)\t1.0\n",
      "  (0, 4620)\t1.0\n",
      "  (0, 4632)\t3.0\n",
      "  (0, 4771)\t4.0\n",
      "  (0, 4802)\t1.0\n",
      "  (0, 5063)\t2.0\n",
      "  (0, 5068)\t1.0\n",
      "  (0, 5752)\t2.0\n",
      "  :\t:\n",
      "  (35386, 4871)\t0.16625275\n",
      "  (35386, 7506)\t0.83374727\n",
      "  (35386, 7934)\t0.83374727\n",
      "  (35386, 8816)\t0.16625275\n",
      "  (35386, 9675)\t0.16625275\n",
      "  (35386, 9830)\t0.83374727\n",
      "  (35386, 10061)\t0.16625275\n",
      "  (35386, 10111)\t0.16625275\n",
      "  (35386, 10348)\t0.16625275\n",
      "  (35386, 10825)\t0.16625275\n",
      "  (35386, 10918)\t1.0\n",
      "  (35386, 11681)\t0.16625275\n",
      "  (35386, 12718)\t0.3325055\n",
      "  (35386, 13196)\t0.16625275\n",
      "  (35386, 13197)\t0.3325055\n",
      "  (35386, 13799)\t0.3325055\n",
      "  (35386, 13802)\t0.16625275\n",
      "  (35386, 14194)\t0.16625275\n",
      "  (35386, 15083)\t0.16625275\n",
      "  (35386, 15096)\t0.16625275\n",
      "  (35386, 15251)\t0.83374727\n",
      "  (35386, 15553)\t0.16625275\n",
      "  (35386, 16945)\t0.3325055\n",
      "  (35386, 18691)\t0.16625275\n",
      "  (35386, 18711)\t0.16625275\n"
     ]
    }
   ],
   "source": [
    "from imblearn.over_sampling import SMOTE, ADASYN\n",
    "X_train_bag_resample, Y_train_resample = ADASYN().fit_resample(X_train_bag, y_train)\n",
    "print(X_train_bag_resample)"
   ]
  },
  {
   "cell_type": "code",
   "execution_count": 37,
   "metadata": {},
   "outputs": [
    {
     "name": "stdout",
     "output_type": "stream",
     "text": [
      "Fitting 2 folds for each of 4 candidates, totalling 8 fits\n",
      "[CV 1/2; 1/4] START criterion=gini, max_depth=10................................\n",
      "[CV 1/2; 1/4] END .criterion=gini, max_depth=10;, score=0.517 total time=   4.2s\n",
      "[CV 2/2; 1/4] START criterion=gini, max_depth=10................................\n",
      "[CV 2/2; 1/4] END .criterion=gini, max_depth=10;, score=0.406 total time=   2.6s\n",
      "[CV 1/2; 2/4] START criterion=gini, max_depth=15................................\n",
      "[CV 1/2; 2/4] END .criterion=gini, max_depth=15;, score=0.589 total time=   7.0s\n",
      "[CV 2/2; 2/4] START criterion=gini, max_depth=15................................\n",
      "[CV 2/2; 2/4] END .criterion=gini, max_depth=15;, score=0.483 total time=   4.2s\n",
      "[CV 1/2; 3/4] START criterion=entropy, max_depth=10.............................\n",
      "[CV 1/2; 3/4] END criterion=entropy, max_depth=10;, score=0.516 total time=  10.4s\n",
      "[CV 2/2; 3/4] START criterion=entropy, max_depth=10.............................\n",
      "[CV 2/2; 3/4] END criterion=entropy, max_depth=10;, score=0.460 total time=   3.7s\n",
      "[CV 1/2; 4/4] START criterion=entropy, max_depth=15.............................\n",
      "[CV 1/2; 4/4] END criterion=entropy, max_depth=15;, score=0.601 total time=  15.5s\n",
      "[CV 2/2; 4/4] START criterion=entropy, max_depth=15.............................\n",
      "[CV 2/2; 4/4] END criterion=entropy, max_depth=15;, score=0.506 total time=   7.3s\n",
      "{'criterion': 'entropy', 'max_depth': 15}\n"
     ]
    }
   ],
   "source": [
    "from sklearn.tree import DecisionTreeClassifier\n",
    "from sklearn.model_selection import GridSearchCV\n",
    "from sklearn.metrics import classification_report\n",
    "param = {'criterion':['gini','entropy'],\n",
    "        'max_depth':[10,15]\n",
    "        }\n",
    "gs_2 = GridSearchCV(estimator=DecisionTreeClassifier(),param_grid=param,\n",
    "                 cv=2, n_jobs=1, verbose=10)\n",
    "gs_2.fit(X_train_bag_resample,Y_train_resample)\n",
    "print(gs_2.best_params_)"
   ]
  },
  {
   "cell_type": "code",
   "execution_count": 38,
   "metadata": {},
   "outputs": [
    {
     "name": "stdout",
     "output_type": "stream",
     "text": [
      "              precision    recall  f1-score   support\n",
      "\n",
      "           0       0.86      0.30      0.45       797\n",
      "           1       0.88      0.73      0.80       753\n",
      "          10       0.71      0.56      0.63       754\n",
      "           2       0.83      0.59      0.69       736\n",
      "           3       0.95      0.53      0.68      1099\n",
      "           4       0.15      0.83      0.25       490\n",
      "           5       0.91      0.78      0.84       734\n",
      "           6       0.91      0.55      0.69       721\n",
      "           7       0.92      0.81      0.86       778\n",
      "           8       0.91      0.46      0.61       779\n",
      "           9       0.50      0.55      0.53       701\n",
      "\n",
      "    accuracy                           0.60      8342\n",
      "   macro avg       0.78      0.61      0.64      8342\n",
      "weighted avg       0.80      0.60      0.65      8342\n",
      "\n"
     ]
    }
   ],
   "source": [
    "y_hat_lda = gs_2.best_estimator_.predict(X_test_bag)\n",
    "print(classification_report(y_test,y_hat_lda))"
   ]
  },
  {
   "cell_type": "markdown",
   "metadata": {},
   "source": [
    "# 九、对原始数据进行数据增强（平衡）"
   ]
  },
  {
   "cell_type": "code",
   "execution_count": 129,
   "metadata": {},
   "outputs": [],
   "source": [
    "# 记得cv有一节课讲到遇到不均衡数据的处理算法，可以试一下！"
   ]
  },
  {
   "cell_type": "code",
   "execution_count": null,
   "metadata": {},
   "outputs": [],
   "source": []
  },
  {
   "cell_type": "markdown",
   "metadata": {},
   "source": [
    "# 十、Word embedding 方法（Word2vec等)"
   ]
  },
  {
   "cell_type": "code",
   "execution_count": 130,
   "metadata": {},
   "outputs": [],
   "source": [
    "# 采用这个方法对数据进行处理，一般为X_train, y_train. 最后查看效果"
   ]
  },
  {
   "cell_type": "code",
   "execution_count": null,
   "metadata": {},
   "outputs": [],
   "source": []
  },
  {
   "cell_type": "markdown",
   "metadata": {},
   "source": [
    "# 十一、深度学习尝试"
   ]
  },
  {
   "cell_type": "code",
   "execution_count": 32,
   "metadata": {},
   "outputs": [
    {
     "data": {
      "text/plain": [
       "<25024x20000 sparse matrix of type '<class 'numpy.float32'>'\n",
       "\twith 2163502 stored elements in Compressed Sparse Row format>"
      ]
     },
     "execution_count": 32,
     "metadata": {},
     "output_type": "execute_result"
    }
   ],
   "source": [
    "X_train_bag"
   ]
  },
  {
   "cell_type": "code",
   "execution_count": null,
   "metadata": {},
   "outputs": [],
   "source": []
  }
 ],
 "metadata": {
  "kernelspec": {
   "display_name": "Python 3.9.7 64-bit",
   "language": "python",
   "name": "python3"
  },
  "language_info": {
   "codemirror_mode": {
    "name": "ipython",
    "version": 3
   },
   "file_extension": ".py",
   "mimetype": "text/x-python",
   "name": "python",
   "nbconvert_exporter": "python",
   "pygments_lexer": "ipython3",
   "version": "3.9.7"
  },
  "vscode": {
   "interpreter": {
    "hash": "8389f2f0cb96be84fc0183363c0f9f48b53b6dfe6eb3898ed3ac7c25a0701f49"
   }
  }
 },
 "nbformat": 4,
 "nbformat_minor": 2
}
